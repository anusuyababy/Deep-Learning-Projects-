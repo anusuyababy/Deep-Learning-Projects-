{
  "nbformat": 4,
  "nbformat_minor": 0,
  "metadata": {
    "colab": {
      "name": "Bank customer churning ",
      "provenance": [],
      "toc_visible": true
    },
    "kernelspec": {
      "name": "python3",
      "display_name": "Python 3"
    },
    "accelerator": "GPU"
  },
  "cells": [
    {
      "cell_type": "code",
      "metadata": {
        "id": "fs4hGhFjJ43x"
      },
      "source": [
        "import numpy as np\r\n",
        "import pandas as pd\r\n",
        "import matplotlib.pyplot as plt\r\n",
        "import seaborn as sns\r\n",
        "%matplotlib inline"
      ],
      "execution_count": 71,
      "outputs": []
    },
    {
      "cell_type": "code",
      "metadata": {
        "colab": {
          "base_uri": "https://localhost:8080/",
          "height": 226
        },
        "id": "IyDaVt14NFzo",
        "outputId": "e9aec025-3c11-4384-b502-796d3e2fc9eb"
      },
      "source": [
        "df=pd.read_csv('bank.csv')\r\n",
        "df.head()"
      ],
      "execution_count": 72,
      "outputs": [
        {
          "output_type": "execute_result",
          "data": {
            "text/html": [
              "<div>\n",
              "<style scoped>\n",
              "    .dataframe tbody tr th:only-of-type {\n",
              "        vertical-align: middle;\n",
              "    }\n",
              "\n",
              "    .dataframe tbody tr th {\n",
              "        vertical-align: top;\n",
              "    }\n",
              "\n",
              "    .dataframe thead th {\n",
              "        text-align: right;\n",
              "    }\n",
              "</style>\n",
              "<table border=\"1\" class=\"dataframe\">\n",
              "  <thead>\n",
              "    <tr style=\"text-align: right;\">\n",
              "      <th></th>\n",
              "      <th>RowNumber</th>\n",
              "      <th>CustomerId</th>\n",
              "      <th>Surname</th>\n",
              "      <th>CreditScore</th>\n",
              "      <th>Geography</th>\n",
              "      <th>Gender</th>\n",
              "      <th>Age</th>\n",
              "      <th>Tenure</th>\n",
              "      <th>Balance</th>\n",
              "      <th>NumOfProducts</th>\n",
              "      <th>HasCrCard</th>\n",
              "      <th>IsActiveMember</th>\n",
              "      <th>EstimatedSalary</th>\n",
              "      <th>Exited</th>\n",
              "    </tr>\n",
              "  </thead>\n",
              "  <tbody>\n",
              "    <tr>\n",
              "      <th>0</th>\n",
              "      <td>1</td>\n",
              "      <td>15634602</td>\n",
              "      <td>Hargrave</td>\n",
              "      <td>619</td>\n",
              "      <td>France</td>\n",
              "      <td>Female</td>\n",
              "      <td>42</td>\n",
              "      <td>2</td>\n",
              "      <td>0.00</td>\n",
              "      <td>1</td>\n",
              "      <td>1</td>\n",
              "      <td>1</td>\n",
              "      <td>101348.88</td>\n",
              "      <td>1</td>\n",
              "    </tr>\n",
              "    <tr>\n",
              "      <th>1</th>\n",
              "      <td>2</td>\n",
              "      <td>15647311</td>\n",
              "      <td>Hill</td>\n",
              "      <td>608</td>\n",
              "      <td>Spain</td>\n",
              "      <td>Female</td>\n",
              "      <td>41</td>\n",
              "      <td>1</td>\n",
              "      <td>83807.86</td>\n",
              "      <td>1</td>\n",
              "      <td>0</td>\n",
              "      <td>1</td>\n",
              "      <td>112542.58</td>\n",
              "      <td>0</td>\n",
              "    </tr>\n",
              "    <tr>\n",
              "      <th>2</th>\n",
              "      <td>3</td>\n",
              "      <td>15619304</td>\n",
              "      <td>Onio</td>\n",
              "      <td>502</td>\n",
              "      <td>France</td>\n",
              "      <td>Female</td>\n",
              "      <td>42</td>\n",
              "      <td>8</td>\n",
              "      <td>159660.80</td>\n",
              "      <td>3</td>\n",
              "      <td>1</td>\n",
              "      <td>0</td>\n",
              "      <td>113931.57</td>\n",
              "      <td>1</td>\n",
              "    </tr>\n",
              "    <tr>\n",
              "      <th>3</th>\n",
              "      <td>4</td>\n",
              "      <td>15701354</td>\n",
              "      <td>Boni</td>\n",
              "      <td>699</td>\n",
              "      <td>France</td>\n",
              "      <td>Female</td>\n",
              "      <td>39</td>\n",
              "      <td>1</td>\n",
              "      <td>0.00</td>\n",
              "      <td>2</td>\n",
              "      <td>0</td>\n",
              "      <td>0</td>\n",
              "      <td>93826.63</td>\n",
              "      <td>0</td>\n",
              "    </tr>\n",
              "    <tr>\n",
              "      <th>4</th>\n",
              "      <td>5</td>\n",
              "      <td>15737888</td>\n",
              "      <td>Mitchell</td>\n",
              "      <td>850</td>\n",
              "      <td>Spain</td>\n",
              "      <td>Female</td>\n",
              "      <td>43</td>\n",
              "      <td>2</td>\n",
              "      <td>125510.82</td>\n",
              "      <td>1</td>\n",
              "      <td>1</td>\n",
              "      <td>1</td>\n",
              "      <td>79084.10</td>\n",
              "      <td>0</td>\n",
              "    </tr>\n",
              "  </tbody>\n",
              "</table>\n",
              "</div>"
            ],
            "text/plain": [
              "   RowNumber  CustomerId   Surname  ...  IsActiveMember EstimatedSalary Exited\n",
              "0          1    15634602  Hargrave  ...               1       101348.88      1\n",
              "1          2    15647311      Hill  ...               1       112542.58      0\n",
              "2          3    15619304      Onio  ...               0       113931.57      1\n",
              "3          4    15701354      Boni  ...               0        93826.63      0\n",
              "4          5    15737888  Mitchell  ...               1        79084.10      0\n",
              "\n",
              "[5 rows x 14 columns]"
            ]
          },
          "metadata": {
            "tags": []
          },
          "execution_count": 72
        }
      ]
    },
    {
      "cell_type": "code",
      "metadata": {
        "colab": {
          "base_uri": "https://localhost:8080/"
        },
        "id": "15wFstVuNXQj",
        "outputId": "dad74523-2843-445e-b390-b22b8424d6c4"
      },
      "source": [
        "df.shape"
      ],
      "execution_count": 73,
      "outputs": [
        {
          "output_type": "execute_result",
          "data": {
            "text/plain": [
              "(10000, 14)"
            ]
          },
          "metadata": {
            "tags": []
          },
          "execution_count": 73
        }
      ]
    },
    {
      "cell_type": "code",
      "metadata": {
        "colab": {
          "base_uri": "https://localhost:8080/"
        },
        "id": "43qlt9tuNF2j",
        "outputId": "4fc6b044-ddf8-497a-9ce9-83522079db6f"
      },
      "source": [
        "df.isnull().sum()"
      ],
      "execution_count": 74,
      "outputs": [
        {
          "output_type": "execute_result",
          "data": {
            "text/plain": [
              "RowNumber          0\n",
              "CustomerId         0\n",
              "Surname            0\n",
              "CreditScore        0\n",
              "Geography          0\n",
              "Gender             0\n",
              "Age                0\n",
              "Tenure             0\n",
              "Balance            0\n",
              "NumOfProducts      0\n",
              "HasCrCard          0\n",
              "IsActiveMember     0\n",
              "EstimatedSalary    0\n",
              "Exited             0\n",
              "dtype: int64"
            ]
          },
          "metadata": {
            "tags": []
          },
          "execution_count": 74
        }
      ]
    },
    {
      "cell_type": "markdown",
      "metadata": {
        "id": "S7hyiVt4NZoG"
      },
      "source": [
        "## FEATURE ENGINEERING"
      ]
    },
    {
      "cell_type": "code",
      "metadata": {
        "colab": {
          "base_uri": "https://localhost:8080/",
          "height": 513
        },
        "id": "u6pZn2hrNF6k",
        "outputId": "85cac53d-f379-45f3-ed0b-6dc6ab9860f3"
      },
      "source": [
        "plt.figure(figsize=(8,8))\r\n",
        "sns.countplot(x='Exited', data=df)\r\n",
        "plt.title('Bank Customers Churn Visualization')\r\n",
        "plt.show()"
      ],
      "execution_count": 75,
      "outputs": [
        {
          "output_type": "display_data",
          "data": {
            "image/png": "[encoded data removed]",
            "text/plain": [
              "<Figure size 576x576 with 1 Axes>"
            ]
          },
          "metadata": {
            "tags": [],
            "needs_background": "light"
          }
        }
      ]
    },
    {
      "cell_type": "code",
      "metadata": {
        "colab": {
          "base_uri": "https://localhost:8080/",
          "height": 719
        },
        "id": "VcOtyZm6P6e9",
        "outputId": "2ccddf51-64ac-43dd-8488-147ce347b393"
      },
      "source": [
        "plt.figure(figsize=(30,20))\r\n",
        "sns.heatmap(df.corr(), annot=True)"
      ],
      "execution_count": 76,
      "outputs": [
        {
          "output_type": "execute_result",
          "data": {
            "text/plain": [
              "<matplotlib.axes._subplots.AxesSubplot at 0x7ffb02358048>"
            ]
          },
          "metadata": {
            "tags": []
          },
          "execution_count": 76
        },
        {
          "output_type": "display_data",
          "data": {
            "image/png": "[encoded data removed]",
            "text/plain": [
              "<Figure size 2160x1440 with 2 Axes>"
            ]
          },
          "metadata": {
            "tags": [],
            "needs_background": "light"
          }
        }
      ]
    },
    {
      "cell_type": "code",
      "metadata": {
        "colab": {
          "base_uri": "https://localhost:8080/",
          "height": 226
        },
        "id": "-U7Yq7_iNF9b",
        "outputId": "d6a48c7f-04b1-484e-af63-8ff10adce5fd"
      },
      "source": [
        "df= df.drop(['RowNumber','CustomerId','Surname'], axis=1)\r\n",
        "df.head()"
      ],
      "execution_count": 77,
      "outputs": [
        {
          "output_type": "execute_result",
          "data": {
            "text/html": [
              "<div>\n",
              "<style scoped>\n",
              "    .dataframe tbody tr th:only-of-type {\n",
              "        vertical-align: middle;\n",
              "    }\n",
              "\n",
              "    .dataframe tbody tr th {\n",
              "        vertical-align: top;\n",
              "    }\n",
              "\n",
              "    .dataframe thead th {\n",
              "        text-align: right;\n",
              "    }\n",
              "</style>\n",
              "<table border=\"1\" class=\"dataframe\">\n",
              "  <thead>\n",
              "    <tr style=\"text-align: right;\">\n",
              "      <th></th>\n",
              "      <th>CreditScore</th>\n",
              "      <th>Geography</th>\n",
              "      <th>Gender</th>\n",
              "      <th>Age</th>\n",
              "      <th>Tenure</th>\n",
              "      <th>Balance</th>\n",
              "      <th>NumOfProducts</th>\n",
              "      <th>HasCrCard</th>\n",
              "      <th>IsActiveMember</th>\n",
              "      <th>EstimatedSalary</th>\n",
              "      <th>Exited</th>\n",
              "    </tr>\n",
              "  </thead>\n",
              "  <tbody>\n",
              "    <tr>\n",
              "      <th>0</th>\n",
              "      <td>619</td>\n",
              "      <td>France</td>\n",
              "      <td>Female</td>\n",
              "      <td>42</td>\n",
              "      <td>2</td>\n",
              "      <td>0.00</td>\n",
              "      <td>1</td>\n",
              "      <td>1</td>\n",
              "      <td>1</td>\n",
              "      <td>101348.88</td>\n",
              "      <td>1</td>\n",
              "    </tr>\n",
              "    <tr>\n",
              "      <th>1</th>\n",
              "      <td>608</td>\n",
              "      <td>Spain</td>\n",
              "      <td>Female</td>\n",
              "      <td>41</td>\n",
              "      <td>1</td>\n",
              "      <td>83807.86</td>\n",
              "      <td>1</td>\n",
              "      <td>0</td>\n",
              "      <td>1</td>\n",
              "      <td>112542.58</td>\n",
              "      <td>0</td>\n",
              "    </tr>\n",
              "    <tr>\n",
              "      <th>2</th>\n",
              "      <td>502</td>\n",
              "      <td>France</td>\n",
              "      <td>Female</td>\n",
              "      <td>42</td>\n",
              "      <td>8</td>\n",
              "      <td>159660.80</td>\n",
              "      <td>3</td>\n",
              "      <td>1</td>\n",
              "      <td>0</td>\n",
              "      <td>113931.57</td>\n",
              "      <td>1</td>\n",
              "    </tr>\n",
              "    <tr>\n",
              "      <th>3</th>\n",
              "      <td>699</td>\n",
              "      <td>France</td>\n",
              "      <td>Female</td>\n",
              "      <td>39</td>\n",
              "      <td>1</td>\n",
              "      <td>0.00</td>\n",
              "      <td>2</td>\n",
              "      <td>0</td>\n",
              "      <td>0</td>\n",
              "      <td>93826.63</td>\n",
              "      <td>0</td>\n",
              "    </tr>\n",
              "    <tr>\n",
              "      <th>4</th>\n",
              "      <td>850</td>\n",
              "      <td>Spain</td>\n",
              "      <td>Female</td>\n",
              "      <td>43</td>\n",
              "      <td>2</td>\n",
              "      <td>125510.82</td>\n",
              "      <td>1</td>\n",
              "      <td>1</td>\n",
              "      <td>1</td>\n",
              "      <td>79084.10</td>\n",
              "      <td>0</td>\n",
              "    </tr>\n",
              "  </tbody>\n",
              "</table>\n",
              "</div>"
            ],
            "text/plain": [
              "   CreditScore Geography  Gender  ...  IsActiveMember  EstimatedSalary  Exited\n",
              "0          619    France  Female  ...               1        101348.88       1\n",
              "1          608     Spain  Female  ...               1        112542.58       0\n",
              "2          502    France  Female  ...               0        113931.57       1\n",
              "3          699    France  Female  ...               0         93826.63       0\n",
              "4          850     Spain  Female  ...               1         79084.10       0\n",
              "\n",
              "[5 rows x 11 columns]"
            ]
          },
          "metadata": {
            "tags": []
          },
          "execution_count": 77
        }
      ]
    },
    {
      "cell_type": "code",
      "metadata": {
        "id": "-Mvw4AEnN-zJ"
      },
      "source": [
        "g = {'Male' : 0, 'Female' : 1}"
      ],
      "execution_count": 78,
      "outputs": []
    },
    {
      "cell_type": "code",
      "metadata": {
        "id": "rMcwMAFCODi-"
      },
      "source": [
        "df['Gender'] = df['Gender'].map(g)"
      ],
      "execution_count": 79,
      "outputs": []
    },
    {
      "cell_type": "code",
      "metadata": {
        "id": "5_424AGXNGBh"
      },
      "source": [
        "geography = pd.get_dummies(df['Geography'], drop_first=True)"
      ],
      "execution_count": 80,
      "outputs": []
    },
    {
      "cell_type": "code",
      "metadata": {
        "colab": {
          "base_uri": "https://localhost:8080/",
          "height": 226
        },
        "id": "rAGhhZZ8OYCo",
        "outputId": "afbaf25d-e5b2-40f7-d0f2-fa7be86f4830"
      },
      "source": [
        "df = pd.concat([df, geography], axis=1)\r\n",
        "df.head()"
      ],
      "execution_count": 81,
      "outputs": [
        {
          "output_type": "execute_result",
          "data": {
            "text/html": [
              "<div>\n",
              "<style scoped>\n",
              "    .dataframe tbody tr th:only-of-type {\n",
              "        vertical-align: middle;\n",
              "    }\n",
              "\n",
              "    .dataframe tbody tr th {\n",
              "        vertical-align: top;\n",
              "    }\n",
              "\n",
              "    .dataframe thead th {\n",
              "        text-align: right;\n",
              "    }\n",
              "</style>\n",
              "<table border=\"1\" class=\"dataframe\">\n",
              "  <thead>\n",
              "    <tr style=\"text-align: right;\">\n",
              "      <th></th>\n",
              "      <th>CreditScore</th>\n",
              "      <th>Geography</th>\n",
              "      <th>Gender</th>\n",
              "      <th>Age</th>\n",
              "      <th>Tenure</th>\n",
              "      <th>Balance</th>\n",
              "      <th>NumOfProducts</th>\n",
              "      <th>HasCrCard</th>\n",
              "      <th>IsActiveMember</th>\n",
              "      <th>EstimatedSalary</th>\n",
              "      <th>Exited</th>\n",
              "      <th>Germany</th>\n",
              "      <th>Spain</th>\n",
              "    </tr>\n",
              "  </thead>\n",
              "  <tbody>\n",
              "    <tr>\n",
              "      <th>0</th>\n",
              "      <td>619</td>\n",
              "      <td>France</td>\n",
              "      <td>1</td>\n",
              "      <td>42</td>\n",
              "      <td>2</td>\n",
              "      <td>0.00</td>\n",
              "      <td>1</td>\n",
              "      <td>1</td>\n",
              "      <td>1</td>\n",
              "      <td>101348.88</td>\n",
              "      <td>1</td>\n",
              "      <td>0</td>\n",
              "      <td>0</td>\n",
              "    </tr>\n",
              "    <tr>\n",
              "      <th>1</th>\n",
              "      <td>608</td>\n",
              "      <td>Spain</td>\n",
              "      <td>1</td>\n",
              "      <td>41</td>\n",
              "      <td>1</td>\n",
              "      <td>83807.86</td>\n",
              "      <td>1</td>\n",
              "      <td>0</td>\n",
              "      <td>1</td>\n",
              "      <td>112542.58</td>\n",
              "      <td>0</td>\n",
              "      <td>0</td>\n",
              "      <td>1</td>\n",
              "    </tr>\n",
              "    <tr>\n",
              "      <th>2</th>\n",
              "      <td>502</td>\n",
              "      <td>France</td>\n",
              "      <td>1</td>\n",
              "      <td>42</td>\n",
              "      <td>8</td>\n",
              "      <td>159660.80</td>\n",
              "      <td>3</td>\n",
              "      <td>1</td>\n",
              "      <td>0</td>\n",
              "      <td>113931.57</td>\n",
              "      <td>1</td>\n",
              "      <td>0</td>\n",
              "      <td>0</td>\n",
              "    </tr>\n",
              "    <tr>\n",
              "      <th>3</th>\n",
              "      <td>699</td>\n",
              "      <td>France</td>\n",
              "      <td>1</td>\n",
              "      <td>39</td>\n",
              "      <td>1</td>\n",
              "      <td>0.00</td>\n",
              "      <td>2</td>\n",
              "      <td>0</td>\n",
              "      <td>0</td>\n",
              "      <td>93826.63</td>\n",
              "      <td>0</td>\n",
              "      <td>0</td>\n",
              "      <td>0</td>\n",
              "    </tr>\n",
              "    <tr>\n",
              "      <th>4</th>\n",
              "      <td>850</td>\n",
              "      <td>Spain</td>\n",
              "      <td>1</td>\n",
              "      <td>43</td>\n",
              "      <td>2</td>\n",
              "      <td>125510.82</td>\n",
              "      <td>1</td>\n",
              "      <td>1</td>\n",
              "      <td>1</td>\n",
              "      <td>79084.10</td>\n",
              "      <td>0</td>\n",
              "      <td>0</td>\n",
              "      <td>1</td>\n",
              "    </tr>\n",
              "  </tbody>\n",
              "</table>\n",
              "</div>"
            ],
            "text/plain": [
              "   CreditScore Geography  Gender  Age  ...  EstimatedSalary  Exited  Germany  Spain\n",
              "0          619    France       1   42  ...        101348.88       1        0      0\n",
              "1          608     Spain       1   41  ...        112542.58       0        0      1\n",
              "2          502    France       1   42  ...        113931.57       1        0      0\n",
              "3          699    France       1   39  ...         93826.63       0        0      0\n",
              "4          850     Spain       1   43  ...         79084.10       0        0      1\n",
              "\n",
              "[5 rows x 13 columns]"
            ]
          },
          "metadata": {
            "tags": []
          },
          "execution_count": 81
        }
      ]
    },
    {
      "cell_type": "code",
      "metadata": {
        "colab": {
          "base_uri": "https://localhost:8080/",
          "height": 226
        },
        "id": "o-npqdDGNGEY",
        "outputId": "b8fbcf35-6ce0-4d3e-dcb5-6acbc4dc48b3"
      },
      "source": [
        "df=df.drop(['Geography'], axis=1)\r\n",
        "df.head()"
      ],
      "execution_count": 82,
      "outputs": [
        {
          "output_type": "execute_result",
          "data": {
            "text/html": [
              "<div>\n",
              "<style scoped>\n",
              "    .dataframe tbody tr th:only-of-type {\n",
              "        vertical-align: middle;\n",
              "    }\n",
              "\n",
              "    .dataframe tbody tr th {\n",
              "        vertical-align: top;\n",
              "    }\n",
              "\n",
              "    .dataframe thead th {\n",
              "        text-align: right;\n",
              "    }\n",
              "</style>\n",
              "<table border=\"1\" class=\"dataframe\">\n",
              "  <thead>\n",
              "    <tr style=\"text-align: right;\">\n",
              "      <th></th>\n",
              "      <th>CreditScore</th>\n",
              "      <th>Gender</th>\n",
              "      <th>Age</th>\n",
              "      <th>Tenure</th>\n",
              "      <th>Balance</th>\n",
              "      <th>NumOfProducts</th>\n",
              "      <th>HasCrCard</th>\n",
              "      <th>IsActiveMember</th>\n",
              "      <th>EstimatedSalary</th>\n",
              "      <th>Exited</th>\n",
              "      <th>Germany</th>\n",
              "      <th>Spain</th>\n",
              "    </tr>\n",
              "  </thead>\n",
              "  <tbody>\n",
              "    <tr>\n",
              "      <th>0</th>\n",
              "      <td>619</td>\n",
              "      <td>1</td>\n",
              "      <td>42</td>\n",
              "      <td>2</td>\n",
              "      <td>0.00</td>\n",
              "      <td>1</td>\n",
              "      <td>1</td>\n",
              "      <td>1</td>\n",
              "      <td>101348.88</td>\n",
              "      <td>1</td>\n",
              "      <td>0</td>\n",
              "      <td>0</td>\n",
              "    </tr>\n",
              "    <tr>\n",
              "      <th>1</th>\n",
              "      <td>608</td>\n",
              "      <td>1</td>\n",
              "      <td>41</td>\n",
              "      <td>1</td>\n",
              "      <td>83807.86</td>\n",
              "      <td>1</td>\n",
              "      <td>0</td>\n",
              "      <td>1</td>\n",
              "      <td>112542.58</td>\n",
              "      <td>0</td>\n",
              "      <td>0</td>\n",
              "      <td>1</td>\n",
              "    </tr>\n",
              "    <tr>\n",
              "      <th>2</th>\n",
              "      <td>502</td>\n",
              "      <td>1</td>\n",
              "      <td>42</td>\n",
              "      <td>8</td>\n",
              "      <td>159660.80</td>\n",
              "      <td>3</td>\n",
              "      <td>1</td>\n",
              "      <td>0</td>\n",
              "      <td>113931.57</td>\n",
              "      <td>1</td>\n",
              "      <td>0</td>\n",
              "      <td>0</td>\n",
              "    </tr>\n",
              "    <tr>\n",
              "      <th>3</th>\n",
              "      <td>699</td>\n",
              "      <td>1</td>\n",
              "      <td>39</td>\n",
              "      <td>1</td>\n",
              "      <td>0.00</td>\n",
              "      <td>2</td>\n",
              "      <td>0</td>\n",
              "      <td>0</td>\n",
              "      <td>93826.63</td>\n",
              "      <td>0</td>\n",
              "      <td>0</td>\n",
              "      <td>0</td>\n",
              "    </tr>\n",
              "    <tr>\n",
              "      <th>4</th>\n",
              "      <td>850</td>\n",
              "      <td>1</td>\n",
              "      <td>43</td>\n",
              "      <td>2</td>\n",
              "      <td>125510.82</td>\n",
              "      <td>1</td>\n",
              "      <td>1</td>\n",
              "      <td>1</td>\n",
              "      <td>79084.10</td>\n",
              "      <td>0</td>\n",
              "      <td>0</td>\n",
              "      <td>1</td>\n",
              "    </tr>\n",
              "  </tbody>\n",
              "</table>\n",
              "</div>"
            ],
            "text/plain": [
              "   CreditScore  Gender  Age  Tenure  ...  EstimatedSalary  Exited  Germany  Spain\n",
              "0          619       1   42       2  ...        101348.88       1        0      0\n",
              "1          608       1   41       1  ...        112542.58       0        0      1\n",
              "2          502       1   42       8  ...        113931.57       1        0      0\n",
              "3          699       1   39       1  ...         93826.63       0        0      0\n",
              "4          850       1   43       2  ...         79084.10       0        0      1\n",
              "\n",
              "[5 rows x 12 columns]"
            ]
          },
          "metadata": {
            "tags": []
          },
          "execution_count": 82
        }
      ]
    },
    {
      "cell_type": "markdown",
      "metadata": {
        "id": "aUwz1f-OOfu7"
      },
      "source": [
        "## OUTLIER REMOVAL"
      ]
    },
    {
      "cell_type": "code",
      "metadata": {
        "colab": {
          "base_uri": "https://localhost:8080/",
          "height": 665
        },
        "id": "DJPOf4byNGIO",
        "outputId": "c1425b33-8782-4995-ef23-50e3c6605423"
      },
      "source": [
        "fig, ax = plt.subplots(2,2,figsize = (30,15))\r\n",
        "sns.distplot(df[\"CreditScore\"], kde =True, ax=ax[0,0], color = \"blue\")\r\n",
        "sns.distplot(df[\"Age\"], kde =True, ax=ax[0,1], color = \"black\")\r\n",
        "sns.distplot(df[\"Balance\"], kde =True, ax=ax[1,0], color = \"magenta\")\r\n",
        "sns.distplot(df[\"EstimatedSalary\"], kde =True, ax=ax[1,1])"
      ],
      "execution_count": 83,
      "outputs": [
        {
          "output_type": "stream",
          "text": [
            "/usr/local/lib/python3.6/dist-packages/seaborn/distributions.py:2551: FutureWarning: `distplot` is a deprecated function and will be removed in a future version. Please adapt your code to use either `displot` (a figure-level function with similar flexibility) or `histplot` (an axes-level function for histograms).\n",
            "  warnings.warn(msg, FutureWarning)\n",
            "/usr/local/lib/python3.6/dist-packages/seaborn/distributions.py:2551: FutureWarning: `distplot` is a deprecated function and will be removed in a future version. Please adapt your code to use either `displot` (a figure-level function with similar flexibility) or `histplot` (an axes-level function for histograms).\n",
            "  warnings.warn(msg, FutureWarning)\n",
            "/usr/local/lib/python3.6/dist-packages/seaborn/distributions.py:2551: FutureWarning: `distplot` is a deprecated function and will be removed in a future version. Please adapt your code to use either `displot` (a figure-level function with similar flexibility) or `histplot` (an axes-level function for histograms).\n",
            "  warnings.warn(msg, FutureWarning)\n",
            "/usr/local/lib/python3.6/dist-packages/seaborn/distributions.py:2551: FutureWarning: `distplot` is a deprecated function and will be removed in a future version. Please adapt your code to use either `displot` (a figure-level function with similar flexibility) or `histplot` (an axes-level function for histograms).\n",
            "  warnings.warn(msg, FutureWarning)\n"
          ],
          "name": "stderr"
        },
        {
          "output_type": "execute_result",
          "data": {
            "text/plain": [
              "<matplotlib.axes._subplots.AxesSubplot at 0x7ffb04d8af98>"
            ]
          },
          "metadata": {
            "tags": []
          },
          "execution_count": 83
        },
        {
          "output_type": "display_data",
          "data": {
            "image/png": "[encoded data removed]",
            "text/plain": [
              "<Figure size 2160x1080 with 4 Axes>"
            ]
          },
          "metadata": {
            "tags": [],
            "needs_background": "light"
          }
        }
      ]
    },
    {
      "cell_type": "code",
      "metadata": {
        "colab": {
          "base_uri": "https://localhost:8080/",
          "height": 668
        },
        "id": "EJ5Kw5TKNGKo",
        "outputId": "c41f5998-6876-4987-a0cc-4114af20c49e"
      },
      "source": [
        "fig, ax = plt.subplots(2,2,figsize = (30,15))\r\n",
        "sns.countplot(df[\"Tenure\"], ax=ax[0,0], color = \"blue\")\r\n",
        "sns.countplot(df[\"NumOfProducts\"], ax=ax[0,1], color = \"black\")\r\n",
        "sns.countplot(df[\"HasCrCard\"], ax=ax[1,0], color = \"magenta\")\r\n",
        "sns.countplot(df[\"IsActiveMember\"], ax=ax[1,1])"
      ],
      "execution_count": 84,
      "outputs": [
        {
          "output_type": "stream",
          "text": [
            "/usr/local/lib/python3.6/dist-packages/seaborn/_decorators.py:43: FutureWarning: Pass the following variable as a keyword arg: x. From version 0.12, the only valid positional argument will be `data`, and passing other arguments without an explicit keyword will result in an error or misinterpretation.\n",
            "  FutureWarning\n",
            "/usr/local/lib/python3.6/dist-packages/seaborn/_decorators.py:43: FutureWarning: Pass the following variable as a keyword arg: x. From version 0.12, the only valid positional argument will be `data`, and passing other arguments without an explicit keyword will result in an error or misinterpretation.\n",
            "  FutureWarning\n",
            "/usr/local/lib/python3.6/dist-packages/seaborn/_decorators.py:43: FutureWarning: Pass the following variable as a keyword arg: x. From version 0.12, the only valid positional argument will be `data`, and passing other arguments without an explicit keyword will result in an error or misinterpretation.\n",
            "  FutureWarning\n",
            "/usr/local/lib/python3.6/dist-packages/seaborn/_decorators.py:43: FutureWarning: Pass the following variable as a keyword arg: x. From version 0.12, the only valid positional argument will be `data`, and passing other arguments without an explicit keyword will result in an error or misinterpretation.\n",
            "  FutureWarning\n"
          ],
          "name": "stderr"
        },
        {
          "output_type": "execute_result",
          "data": {
            "text/plain": [
              "<matplotlib.axes._subplots.AxesSubplot at 0x7ffb0562eef0>"
            ]
          },
          "metadata": {
            "tags": []
          },
          "execution_count": 84
        },
        {
          "output_type": "display_data",
          "data": {
            "image/png": "[encoded data removed]",
            "text/plain": [
              "<Figure size 2160x1080 with 4 Axes>"
            ]
          },
          "metadata": {
            "tags": [],
            "needs_background": "light"
          }
        }
      ]
    },
    {
      "cell_type": "code",
      "metadata": {
        "colab": {
          "base_uri": "https://localhost:8080/",
          "height": 679
        },
        "id": "uYLGhcnaP3AQ",
        "outputId": "1921b652-f477-4fd6-9b0b-989e634fe0dd"
      },
      "source": [
        "fig, ax = plt.subplots(2,2,figsize = (30,15))\r\n",
        "sns.boxplot(df[\"CreditScore\"], ax=ax[0,0], color = \"blue\")\r\n",
        "sns.boxplot(df[\"Age\"], ax=ax[0,1], color = \"black\")\r\n",
        "sns.boxplot(df[\"Balance\"], ax=ax[1,0], color = \"magenta\")\r\n",
        "sns.boxplot(df[\"EstimatedSalary\"], ax=ax[1,1])\r\n"
      ],
      "execution_count": 85,
      "outputs": [
        {
          "output_type": "stream",
          "text": [
            "/usr/local/lib/python3.6/dist-packages/seaborn/_decorators.py:43: FutureWarning: Pass the following variable as a keyword arg: x. From version 0.12, the only valid positional argument will be `data`, and passing other arguments without an explicit keyword will result in an error or misinterpretation.\n",
            "  FutureWarning\n",
            "/usr/local/lib/python3.6/dist-packages/seaborn/_decorators.py:43: FutureWarning: Pass the following variable as a keyword arg: x. From version 0.12, the only valid positional argument will be `data`, and passing other arguments without an explicit keyword will result in an error or misinterpretation.\n",
            "  FutureWarning\n",
            "/usr/local/lib/python3.6/dist-packages/seaborn/_decorators.py:43: FutureWarning: Pass the following variable as a keyword arg: x. From version 0.12, the only valid positional argument will be `data`, and passing other arguments without an explicit keyword will result in an error or misinterpretation.\n",
            "  FutureWarning\n",
            "/usr/local/lib/python3.6/dist-packages/seaborn/_decorators.py:43: FutureWarning: Pass the following variable as a keyword arg: x. From version 0.12, the only valid positional argument will be `data`, and passing other arguments without an explicit keyword will result in an error or misinterpretation.\n",
            "  FutureWarning\n"
          ],
          "name": "stderr"
        },
        {
          "output_type": "execute_result",
          "data": {
            "text/plain": [
              "<matplotlib.axes._subplots.AxesSubplot at 0x7ffb054a57b8>"
            ]
          },
          "metadata": {
            "tags": []
          },
          "execution_count": 85
        },
        {
          "output_type": "display_data",
          "data": {
            "image/png": "[encoded data removed]",
            "text/plain": [
              "<Figure size 2160x1080 with 4 Axes>"
            ]
          },
          "metadata": {
            "tags": [],
            "needs_background": "light"
          }
        }
      ]
    },
    {
      "cell_type": "code",
      "metadata": {
        "id": "EArSw_2mP3J2"
      },
      "source": [
        "df.loc[df['Age']>61, 'Age'] = 61\r\n",
        "df.loc[df['CreditScore']<390, 'CreditScore'] = 390"
      ],
      "execution_count": 86,
      "outputs": []
    },
    {
      "cell_type": "code",
      "metadata": {
        "colab": {
          "base_uri": "https://localhost:8080/",
          "height": 226
        },
        "id": "iHGNcgj0P3OX",
        "outputId": "89072a65-763e-4676-b08d-5030df1118e5"
      },
      "source": [
        "df.head()"
      ],
      "execution_count": 87,
      "outputs": [
        {
          "output_type": "execute_result",
          "data": {
            "text/html": [
              "<div>\n",
              "<style scoped>\n",
              "    .dataframe tbody tr th:only-of-type {\n",
              "        vertical-align: middle;\n",
              "    }\n",
              "\n",
              "    .dataframe tbody tr th {\n",
              "        vertical-align: top;\n",
              "    }\n",
              "\n",
              "    .dataframe thead th {\n",
              "        text-align: right;\n",
              "    }\n",
              "</style>\n",
              "<table border=\"1\" class=\"dataframe\">\n",
              "  <thead>\n",
              "    <tr style=\"text-align: right;\">\n",
              "      <th></th>\n",
              "      <th>CreditScore</th>\n",
              "      <th>Gender</th>\n",
              "      <th>Age</th>\n",
              "      <th>Tenure</th>\n",
              "      <th>Balance</th>\n",
              "      <th>NumOfProducts</th>\n",
              "      <th>HasCrCard</th>\n",
              "      <th>IsActiveMember</th>\n",
              "      <th>EstimatedSalary</th>\n",
              "      <th>Exited</th>\n",
              "      <th>Germany</th>\n",
              "      <th>Spain</th>\n",
              "    </tr>\n",
              "  </thead>\n",
              "  <tbody>\n",
              "    <tr>\n",
              "      <th>0</th>\n",
              "      <td>619</td>\n",
              "      <td>1</td>\n",
              "      <td>42</td>\n",
              "      <td>2</td>\n",
              "      <td>0.00</td>\n",
              "      <td>1</td>\n",
              "      <td>1</td>\n",
              "      <td>1</td>\n",
              "      <td>101348.88</td>\n",
              "      <td>1</td>\n",
              "      <td>0</td>\n",
              "      <td>0</td>\n",
              "    </tr>\n",
              "    <tr>\n",
              "      <th>1</th>\n",
              "      <td>608</td>\n",
              "      <td>1</td>\n",
              "      <td>41</td>\n",
              "      <td>1</td>\n",
              "      <td>83807.86</td>\n",
              "      <td>1</td>\n",
              "      <td>0</td>\n",
              "      <td>1</td>\n",
              "      <td>112542.58</td>\n",
              "      <td>0</td>\n",
              "      <td>0</td>\n",
              "      <td>1</td>\n",
              "    </tr>\n",
              "    <tr>\n",
              "      <th>2</th>\n",
              "      <td>502</td>\n",
              "      <td>1</td>\n",
              "      <td>42</td>\n",
              "      <td>8</td>\n",
              "      <td>159660.80</td>\n",
              "      <td>3</td>\n",
              "      <td>1</td>\n",
              "      <td>0</td>\n",
              "      <td>113931.57</td>\n",
              "      <td>1</td>\n",
              "      <td>0</td>\n",
              "      <td>0</td>\n",
              "    </tr>\n",
              "    <tr>\n",
              "      <th>3</th>\n",
              "      <td>699</td>\n",
              "      <td>1</td>\n",
              "      <td>39</td>\n",
              "      <td>1</td>\n",
              "      <td>0.00</td>\n",
              "      <td>2</td>\n",
              "      <td>0</td>\n",
              "      <td>0</td>\n",
              "      <td>93826.63</td>\n",
              "      <td>0</td>\n",
              "      <td>0</td>\n",
              "      <td>0</td>\n",
              "    </tr>\n",
              "    <tr>\n",
              "      <th>4</th>\n",
              "      <td>850</td>\n",
              "      <td>1</td>\n",
              "      <td>43</td>\n",
              "      <td>2</td>\n",
              "      <td>125510.82</td>\n",
              "      <td>1</td>\n",
              "      <td>1</td>\n",
              "      <td>1</td>\n",
              "      <td>79084.10</td>\n",
              "      <td>0</td>\n",
              "      <td>0</td>\n",
              "      <td>1</td>\n",
              "    </tr>\n",
              "  </tbody>\n",
              "</table>\n",
              "</div>"
            ],
            "text/plain": [
              "   CreditScore  Gender  Age  Tenure  ...  EstimatedSalary  Exited  Germany  Spain\n",
              "0          619       1   42       2  ...        101348.88       1        0      0\n",
              "1          608       1   41       1  ...        112542.58       0        0      1\n",
              "2          502       1   42       8  ...        113931.57       1        0      0\n",
              "3          699       1   39       1  ...         93826.63       0        0      0\n",
              "4          850       1   43       2  ...         79084.10       0        0      1\n",
              "\n",
              "[5 rows x 12 columns]"
            ]
          },
          "metadata": {
            "tags": []
          },
          "execution_count": 87
        }
      ]
    },
    {
      "cell_type": "code",
      "metadata": {
        "colab": {
          "base_uri": "https://localhost:8080/",
          "height": 679
        },
        "id": "2rkSQ0LQP3Ra",
        "outputId": "5caaef91-7096-4269-dcee-dc6ce7bb7bd5"
      },
      "source": [
        "fig, ax = plt.subplots(2,2,figsize = (30,15))\r\n",
        "sns.boxplot(df[\"CreditScore\"], ax=ax[0,0], color = \"blue\")\r\n",
        "sns.boxplot(df[\"Age\"], ax=ax[0,1], color = \"black\")\r\n",
        "sns.boxplot(df[\"Balance\"], ax=ax[1,0], color = \"magenta\")\r\n",
        "sns.boxplot(df[\"EstimatedSalary\"], ax=ax[1,1])"
      ],
      "execution_count": 88,
      "outputs": [
        {
          "output_type": "stream",
          "text": [
            "/usr/local/lib/python3.6/dist-packages/seaborn/_decorators.py:43: FutureWarning: Pass the following variable as a keyword arg: x. From version 0.12, the only valid positional argument will be `data`, and passing other arguments without an explicit keyword will result in an error or misinterpretation.\n",
            "  FutureWarning\n",
            "/usr/local/lib/python3.6/dist-packages/seaborn/_decorators.py:43: FutureWarning: Pass the following variable as a keyword arg: x. From version 0.12, the only valid positional argument will be `data`, and passing other arguments without an explicit keyword will result in an error or misinterpretation.\n",
            "  FutureWarning\n",
            "/usr/local/lib/python3.6/dist-packages/seaborn/_decorators.py:43: FutureWarning: Pass the following variable as a keyword arg: x. From version 0.12, the only valid positional argument will be `data`, and passing other arguments without an explicit keyword will result in an error or misinterpretation.\n",
            "  FutureWarning\n",
            "/usr/local/lib/python3.6/dist-packages/seaborn/_decorators.py:43: FutureWarning: Pass the following variable as a keyword arg: x. From version 0.12, the only valid positional argument will be `data`, and passing other arguments without an explicit keyword will result in an error or misinterpretation.\n",
            "  FutureWarning\n"
          ],
          "name": "stderr"
        },
        {
          "output_type": "execute_result",
          "data": {
            "text/plain": [
              "<matplotlib.axes._subplots.AxesSubplot at 0x7ffb0531a630>"
            ]
          },
          "metadata": {
            "tags": []
          },
          "execution_count": 88
        },
        {
          "output_type": "display_data",
          "data": {
            "image/png": "[encoded data removed]",
            "text/plain": [
              "<Figure size 2160x1080 with 4 Axes>"
            ]
          },
          "metadata": {
            "tags": [],
            "needs_background": "light"
          }
        }
      ]
    },
    {
      "cell_type": "markdown",
      "metadata": {
        "id": "6fR9fx0irYLL"
      },
      "source": [
        "## NORMALIZATION TECHNIQUE (MINMAXSCALER)"
      ]
    },
    {
      "cell_type": "code",
      "metadata": {
        "colab": {
          "base_uri": "https://localhost:8080/"
        },
        "id": "W-bOuGckZux2",
        "outputId": "fe6cce93-5770-42a0-e5c4-d81fe2a19123"
      },
      "source": [
        "feature_scale=[feature for feature in df.columns if feature not in ['Exited']]\r\n",
        "from sklearn.preprocessing import MinMaxScaler\r\n",
        "scaler=MinMaxScaler()\r\n",
        "scaler.fit(df[feature_scale])"
      ],
      "execution_count": 89,
      "outputs": [
        {
          "output_type": "execute_result",
          "data": {
            "text/plain": [
              "MinMaxScaler(copy=True, feature_range=(0, 1))"
            ]
          },
          "metadata": {
            "tags": []
          },
          "execution_count": 89
        }
      ]
    },
    {
      "cell_type": "code",
      "metadata": {
        "id": "maR5HSenny4a",
        "colab": {
          "base_uri": "https://localhost:8080/",
          "height": 226
        },
        "outputId": "a716d3ae-a2d3-4a80-dde4-19fe185a96c3"
      },
      "source": [
        "df=pd.concat([df[['Exited']].reset_index(drop=True), pd.DataFrame(scaler.transform(df[feature_scale]), columns=feature_scale)], axis=1)\r\n",
        "df.head()"
      ],
      "execution_count": 90,
      "outputs": [
        {
          "output_type": "execute_result",
          "data": {
            "text/html": [
              "<div>\n",
              "<style scoped>\n",
              "    .dataframe tbody tr th:only-of-type {\n",
              "        vertical-align: middle;\n",
              "    }\n",
              "\n",
              "    .dataframe tbody tr th {\n",
              "        vertical-align: top;\n",
              "    }\n",
              "\n",
              "    .dataframe thead th {\n",
              "        text-align: right;\n",
              "    }\n",
              "</style>\n",
              "<table border=\"1\" class=\"dataframe\">\n",
              "  <thead>\n",
              "    <tr style=\"text-align: right;\">\n",
              "      <th></th>\n",
              "      <th>Exited</th>\n",
              "      <th>CreditScore</th>\n",
              "      <th>Gender</th>\n",
              "      <th>Age</th>\n",
              "      <th>Tenure</th>\n",
              "      <th>Balance</th>\n",
              "      <th>NumOfProducts</th>\n",
              "      <th>HasCrCard</th>\n",
              "      <th>IsActiveMember</th>\n",
              "      <th>EstimatedSalary</th>\n",
              "      <th>Germany</th>\n",
              "      <th>Spain</th>\n",
              "    </tr>\n",
              "  </thead>\n",
              "  <tbody>\n",
              "    <tr>\n",
              "      <th>0</th>\n",
              "      <td>1</td>\n",
              "      <td>0.497826</td>\n",
              "      <td>1.0</td>\n",
              "      <td>0.558140</td>\n",
              "      <td>0.2</td>\n",
              "      <td>0.000000</td>\n",
              "      <td>0.000000</td>\n",
              "      <td>1.0</td>\n",
              "      <td>1.0</td>\n",
              "      <td>0.506735</td>\n",
              "      <td>0.0</td>\n",
              "      <td>0.0</td>\n",
              "    </tr>\n",
              "    <tr>\n",
              "      <th>1</th>\n",
              "      <td>0</td>\n",
              "      <td>0.473913</td>\n",
              "      <td>1.0</td>\n",
              "      <td>0.534884</td>\n",
              "      <td>0.1</td>\n",
              "      <td>0.334031</td>\n",
              "      <td>0.000000</td>\n",
              "      <td>0.0</td>\n",
              "      <td>1.0</td>\n",
              "      <td>0.562709</td>\n",
              "      <td>0.0</td>\n",
              "      <td>1.0</td>\n",
              "    </tr>\n",
              "    <tr>\n",
              "      <th>2</th>\n",
              "      <td>1</td>\n",
              "      <td>0.243478</td>\n",
              "      <td>1.0</td>\n",
              "      <td>0.558140</td>\n",
              "      <td>0.8</td>\n",
              "      <td>0.636357</td>\n",
              "      <td>0.666667</td>\n",
              "      <td>1.0</td>\n",
              "      <td>0.0</td>\n",
              "      <td>0.569654</td>\n",
              "      <td>0.0</td>\n",
              "      <td>0.0</td>\n",
              "    </tr>\n",
              "    <tr>\n",
              "      <th>3</th>\n",
              "      <td>0</td>\n",
              "      <td>0.671739</td>\n",
              "      <td>1.0</td>\n",
              "      <td>0.488372</td>\n",
              "      <td>0.1</td>\n",
              "      <td>0.000000</td>\n",
              "      <td>0.333333</td>\n",
              "      <td>0.0</td>\n",
              "      <td>0.0</td>\n",
              "      <td>0.469120</td>\n",
              "      <td>0.0</td>\n",
              "      <td>0.0</td>\n",
              "    </tr>\n",
              "    <tr>\n",
              "      <th>4</th>\n",
              "      <td>0</td>\n",
              "      <td>1.000000</td>\n",
              "      <td>1.0</td>\n",
              "      <td>0.581395</td>\n",
              "      <td>0.2</td>\n",
              "      <td>0.500246</td>\n",
              "      <td>0.000000</td>\n",
              "      <td>1.0</td>\n",
              "      <td>1.0</td>\n",
              "      <td>0.395400</td>\n",
              "      <td>0.0</td>\n",
              "      <td>1.0</td>\n",
              "    </tr>\n",
              "  </tbody>\n",
              "</table>\n",
              "</div>"
            ],
            "text/plain": [
              "   Exited  CreditScore  Gender  ...  EstimatedSalary  Germany  Spain\n",
              "0       1     0.497826     1.0  ...         0.506735      0.0    0.0\n",
              "1       0     0.473913     1.0  ...         0.562709      0.0    1.0\n",
              "2       1     0.243478     1.0  ...         0.569654      0.0    0.0\n",
              "3       0     0.671739     1.0  ...         0.469120      0.0    0.0\n",
              "4       0     1.000000     1.0  ...         0.395400      0.0    1.0\n",
              "\n",
              "[5 rows x 12 columns]"
            ]
          },
          "metadata": {
            "tags": []
          },
          "execution_count": 90
        }
      ]
    },
    {
      "cell_type": "markdown",
      "metadata": {
        "id": "hXHW7K5pkj1t"
      },
      "source": [
        "## TRAIN TEST SPLIT"
      ]
    },
    {
      "cell_type": "code",
      "metadata": {
        "colab": {
          "base_uri": "https://localhost:8080/"
        },
        "id": "itXQcfiwNGOJ",
        "outputId": "bc2d0f15-4f15-4d8f-c4e8-d8e03d93c732"
      },
      "source": [
        "x=df.drop(['Exited'], axis = 1)\r\n",
        "y=df['Exited']\r\n",
        "x.shape, y.shape"
      ],
      "execution_count": 91,
      "outputs": [
        {
          "output_type": "execute_result",
          "data": {
            "text/plain": [
              "((10000, 11), (10000,))"
            ]
          },
          "metadata": {
            "tags": []
          },
          "execution_count": 91
        }
      ]
    },
    {
      "cell_type": "code",
      "metadata": {
        "colab": {
          "base_uri": "https://localhost:8080/",
          "height": 226
        },
        "id": "ULDlcbGamgxt",
        "outputId": "fd59c780-9fa1-4a14-b200-d00560a20f3c"
      },
      "source": [
        "x.head()"
      ],
      "execution_count": 92,
      "outputs": [
        {
          "output_type": "execute_result",
          "data": {
            "text/html": [
              "<div>\n",
              "<style scoped>\n",
              "    .dataframe tbody tr th:only-of-type {\n",
              "        vertical-align: middle;\n",
              "    }\n",
              "\n",
              "    .dataframe tbody tr th {\n",
              "        vertical-align: top;\n",
              "    }\n",
              "\n",
              "    .dataframe thead th {\n",
              "        text-align: right;\n",
              "    }\n",
              "</style>\n",
              "<table border=\"1\" class=\"dataframe\">\n",
              "  <thead>\n",
              "    <tr style=\"text-align: right;\">\n",
              "      <th></th>\n",
              "      <th>CreditScore</th>\n",
              "      <th>Gender</th>\n",
              "      <th>Age</th>\n",
              "      <th>Tenure</th>\n",
              "      <th>Balance</th>\n",
              "      <th>NumOfProducts</th>\n",
              "      <th>HasCrCard</th>\n",
              "      <th>IsActiveMember</th>\n",
              "      <th>EstimatedSalary</th>\n",
              "      <th>Germany</th>\n",
              "      <th>Spain</th>\n",
              "    </tr>\n",
              "  </thead>\n",
              "  <tbody>\n",
              "    <tr>\n",
              "      <th>0</th>\n",
              "      <td>0.497826</td>\n",
              "      <td>1.0</td>\n",
              "      <td>0.558140</td>\n",
              "      <td>0.2</td>\n",
              "      <td>0.000000</td>\n",
              "      <td>0.000000</td>\n",
              "      <td>1.0</td>\n",
              "      <td>1.0</td>\n",
              "      <td>0.506735</td>\n",
              "      <td>0.0</td>\n",
              "      <td>0.0</td>\n",
              "    </tr>\n",
              "    <tr>\n",
              "      <th>1</th>\n",
              "      <td>0.473913</td>\n",
              "      <td>1.0</td>\n",
              "      <td>0.534884</td>\n",
              "      <td>0.1</td>\n",
              "      <td>0.334031</td>\n",
              "      <td>0.000000</td>\n",
              "      <td>0.0</td>\n",
              "      <td>1.0</td>\n",
              "      <td>0.562709</td>\n",
              "      <td>0.0</td>\n",
              "      <td>1.0</td>\n",
              "    </tr>\n",
              "    <tr>\n",
              "      <th>2</th>\n",
              "      <td>0.243478</td>\n",
              "      <td>1.0</td>\n",
              "      <td>0.558140</td>\n",
              "      <td>0.8</td>\n",
              "      <td>0.636357</td>\n",
              "      <td>0.666667</td>\n",
              "      <td>1.0</td>\n",
              "      <td>0.0</td>\n",
              "      <td>0.569654</td>\n",
              "      <td>0.0</td>\n",
              "      <td>0.0</td>\n",
              "    </tr>\n",
              "    <tr>\n",
              "      <th>3</th>\n",
              "      <td>0.671739</td>\n",
              "      <td>1.0</td>\n",
              "      <td>0.488372</td>\n",
              "      <td>0.1</td>\n",
              "      <td>0.000000</td>\n",
              "      <td>0.333333</td>\n",
              "      <td>0.0</td>\n",
              "      <td>0.0</td>\n",
              "      <td>0.469120</td>\n",
              "      <td>0.0</td>\n",
              "      <td>0.0</td>\n",
              "    </tr>\n",
              "    <tr>\n",
              "      <th>4</th>\n",
              "      <td>1.000000</td>\n",
              "      <td>1.0</td>\n",
              "      <td>0.581395</td>\n",
              "      <td>0.2</td>\n",
              "      <td>0.500246</td>\n",
              "      <td>0.000000</td>\n",
              "      <td>1.0</td>\n",
              "      <td>1.0</td>\n",
              "      <td>0.395400</td>\n",
              "      <td>0.0</td>\n",
              "      <td>1.0</td>\n",
              "    </tr>\n",
              "  </tbody>\n",
              "</table>\n",
              "</div>"
            ],
            "text/plain": [
              "   CreditScore  Gender       Age  ...  EstimatedSalary  Germany  Spain\n",
              "0     0.497826     1.0  0.558140  ...         0.506735      0.0    0.0\n",
              "1     0.473913     1.0  0.534884  ...         0.562709      0.0    1.0\n",
              "2     0.243478     1.0  0.558140  ...         0.569654      0.0    0.0\n",
              "3     0.671739     1.0  0.488372  ...         0.469120      0.0    0.0\n",
              "4     1.000000     1.0  0.581395  ...         0.395400      0.0    1.0\n",
              "\n",
              "[5 rows x 11 columns]"
            ]
          },
          "metadata": {
            "tags": []
          },
          "execution_count": 92
        }
      ]
    },
    {
      "cell_type": "code",
      "metadata": {
        "id": "04XRphwfPEJs"
      },
      "source": [
        "from sklearn.model_selection import train_test_split\r\n",
        "x_train, x_test, y_train, y_test=train_test_split(x, y, test_size=0.2, random_state=0)"
      ],
      "execution_count": 93,
      "outputs": []
    },
    {
      "cell_type": "markdown",
      "metadata": {
        "id": "k8kLvFpGkoLx"
      },
      "source": [
        "## ARTIFICIAL NEURAL NETWORK"
      ]
    },
    {
      "cell_type": "code",
      "metadata": {
        "id": "ikGeUUFvPEXg"
      },
      "source": [
        "import keras\r\n",
        "from keras.models import Sequential\r\n",
        "from keras.layers import Dense\r\n",
        "from keras.layers import LeakyReLU, PReLU, ELU\r\n",
        "from keras.layers import Dropout"
      ],
      "execution_count": 94,
      "outputs": []
    },
    {
      "cell_type": "code",
      "metadata": {
        "id": "TECOUznTPEaj"
      },
      "source": [
        "clf = Sequential()\r\n",
        "clf.add(Dense(units = 10, kernel_initializer = 'he_normal', activation='relu', input_dim = 11))\r\n",
        "clf.add(Dense(units = 20, kernel_initializer = 'he_normal', activation='relu'))\r\n",
        "clf.add(Dense(units = 1, kernel_initializer = 'glorot_normal', activation = 'sigmoid'))\r\n",
        "clf.compile(optimizer = 'adam', loss = 'binary_crossentropy', metrics = ['accuracy'])"
      ],
      "execution_count": 95,
      "outputs": []
    },
    {
      "cell_type": "code",
      "metadata": {
        "colab": {
          "base_uri": "https://localhost:8080/"
        },
        "id": "Pj-LBTPfPEe-",
        "outputId": "cbf4b879-1ceb-41a9-d86c-f64d02e62729"
      },
      "source": [
        "model = clf.fit(x_train, y_train, batch_size=10, validation_split=0.30, epochs=100)"
      ],
      "execution_count": 96,
      "outputs": [
        {
          "output_type": "stream",
          "text": [
            "Epoch 1/100\n",
            "560/560 [==============================] - 2s 3ms/step - loss: 0.5888 - accuracy: 0.7030 - val_loss: 0.4775 - val_accuracy: 0.7958\n",
            "Epoch 2/100\n",
            "560/560 [==============================] - 1s 2ms/step - loss: 0.4740 - accuracy: 0.7911 - val_loss: 0.4584 - val_accuracy: 0.8000\n",
            "Epoch 3/100\n",
            "560/560 [==============================] - 1s 2ms/step - loss: 0.4439 - accuracy: 0.8083 - val_loss: 0.4436 - val_accuracy: 0.8100\n",
            "Epoch 4/100\n",
            "560/560 [==============================] - 1s 2ms/step - loss: 0.4355 - accuracy: 0.8126 - val_loss: 0.4359 - val_accuracy: 0.8104\n",
            "Epoch 5/100\n",
            "560/560 [==============================] - 1s 2ms/step - loss: 0.4265 - accuracy: 0.8256 - val_loss: 0.4340 - val_accuracy: 0.8133\n",
            "Epoch 6/100\n",
            "560/560 [==============================] - 1s 2ms/step - loss: 0.4282 - accuracy: 0.8140 - val_loss: 0.4285 - val_accuracy: 0.8129\n",
            "Epoch 7/100\n",
            "560/560 [==============================] - 1s 2ms/step - loss: 0.4198 - accuracy: 0.8228 - val_loss: 0.4259 - val_accuracy: 0.8171\n",
            "Epoch 8/100\n",
            "560/560 [==============================] - 1s 2ms/step - loss: 0.3980 - accuracy: 0.8320 - val_loss: 0.4299 - val_accuracy: 0.8146\n",
            "Epoch 9/100\n",
            "560/560 [==============================] - 1s 2ms/step - loss: 0.4131 - accuracy: 0.8238 - val_loss: 0.4218 - val_accuracy: 0.8121\n",
            "Epoch 10/100\n",
            "560/560 [==============================] - 1s 2ms/step - loss: 0.4064 - accuracy: 0.8239 - val_loss: 0.4143 - val_accuracy: 0.8225\n",
            "Epoch 11/100\n",
            "560/560 [==============================] - 1s 2ms/step - loss: 0.4041 - accuracy: 0.8241 - val_loss: 0.4103 - val_accuracy: 0.8217\n",
            "Epoch 12/100\n",
            "560/560 [==============================] - 1s 2ms/step - loss: 0.3905 - accuracy: 0.8320 - val_loss: 0.4016 - val_accuracy: 0.8263\n",
            "Epoch 13/100\n",
            "560/560 [==============================] - 1s 2ms/step - loss: 0.3820 - accuracy: 0.8372 - val_loss: 0.3965 - val_accuracy: 0.8292\n",
            "Epoch 14/100\n",
            "560/560 [==============================] - 1s 2ms/step - loss: 0.3780 - accuracy: 0.8454 - val_loss: 0.3953 - val_accuracy: 0.8296\n",
            "Epoch 15/100\n",
            "560/560 [==============================] - 1s 2ms/step - loss: 0.3733 - accuracy: 0.8436 - val_loss: 0.3874 - val_accuracy: 0.8346\n",
            "Epoch 16/100\n",
            "560/560 [==============================] - 1s 2ms/step - loss: 0.3678 - accuracy: 0.8400 - val_loss: 0.3802 - val_accuracy: 0.8396\n",
            "Epoch 17/100\n",
            "560/560 [==============================] - 1s 2ms/step - loss: 0.3470 - accuracy: 0.8535 - val_loss: 0.3782 - val_accuracy: 0.8383\n",
            "Epoch 18/100\n",
            "560/560 [==============================] - 1s 2ms/step - loss: 0.3629 - accuracy: 0.8460 - val_loss: 0.3793 - val_accuracy: 0.8413\n",
            "Epoch 19/100\n",
            "560/560 [==============================] - 1s 2ms/step - loss: 0.3511 - accuracy: 0.8566 - val_loss: 0.3759 - val_accuracy: 0.8421\n",
            "Epoch 20/100\n",
            "560/560 [==============================] - 1s 2ms/step - loss: 0.3589 - accuracy: 0.8430 - val_loss: 0.3750 - val_accuracy: 0.8421\n",
            "Epoch 21/100\n",
            "560/560 [==============================] - 1s 2ms/step - loss: 0.3573 - accuracy: 0.8516 - val_loss: 0.3806 - val_accuracy: 0.8363\n",
            "Epoch 22/100\n",
            "560/560 [==============================] - 1s 2ms/step - loss: 0.3634 - accuracy: 0.8490 - val_loss: 0.3784 - val_accuracy: 0.8413\n",
            "Epoch 23/100\n",
            "560/560 [==============================] - 1s 2ms/step - loss: 0.3498 - accuracy: 0.8589 - val_loss: 0.3748 - val_accuracy: 0.8425\n",
            "Epoch 24/100\n",
            "560/560 [==============================] - 1s 2ms/step - loss: 0.3520 - accuracy: 0.8536 - val_loss: 0.3767 - val_accuracy: 0.8413\n",
            "Epoch 25/100\n",
            "560/560 [==============================] - 1s 2ms/step - loss: 0.3690 - accuracy: 0.8416 - val_loss: 0.3795 - val_accuracy: 0.8404\n",
            "Epoch 26/100\n",
            "560/560 [==============================] - 1s 2ms/step - loss: 0.3450 - accuracy: 0.8572 - val_loss: 0.3735 - val_accuracy: 0.8446\n",
            "Epoch 27/100\n",
            "560/560 [==============================] - 1s 3ms/step - loss: 0.3500 - accuracy: 0.8597 - val_loss: 0.3740 - val_accuracy: 0.8388\n",
            "Epoch 28/100\n",
            "560/560 [==============================] - 1s 2ms/step - loss: 0.3483 - accuracy: 0.8555 - val_loss: 0.3737 - val_accuracy: 0.8438\n",
            "Epoch 29/100\n",
            "560/560 [==============================] - 1s 2ms/step - loss: 0.3609 - accuracy: 0.8505 - val_loss: 0.3762 - val_accuracy: 0.8417\n",
            "Epoch 30/100\n",
            "560/560 [==============================] - 1s 2ms/step - loss: 0.3436 - accuracy: 0.8604 - val_loss: 0.3758 - val_accuracy: 0.8425\n",
            "Epoch 31/100\n",
            "560/560 [==============================] - 1s 2ms/step - loss: 0.3440 - accuracy: 0.8566 - val_loss: 0.3728 - val_accuracy: 0.8454\n",
            "Epoch 32/100\n",
            "560/560 [==============================] - 1s 2ms/step - loss: 0.3542 - accuracy: 0.8524 - val_loss: 0.3727 - val_accuracy: 0.8475\n",
            "Epoch 33/100\n",
            "560/560 [==============================] - 1s 2ms/step - loss: 0.3342 - accuracy: 0.8673 - val_loss: 0.3733 - val_accuracy: 0.8433\n",
            "Epoch 34/100\n",
            "560/560 [==============================] - 1s 2ms/step - loss: 0.3420 - accuracy: 0.8596 - val_loss: 0.3731 - val_accuracy: 0.8483\n",
            "Epoch 35/100\n",
            "560/560 [==============================] - 1s 2ms/step - loss: 0.3469 - accuracy: 0.8557 - val_loss: 0.3745 - val_accuracy: 0.8442\n",
            "Epoch 36/100\n",
            "560/560 [==============================] - 1s 2ms/step - loss: 0.3451 - accuracy: 0.8583 - val_loss: 0.3744 - val_accuracy: 0.8471\n",
            "Epoch 37/100\n",
            "560/560 [==============================] - 1s 2ms/step - loss: 0.3435 - accuracy: 0.8592 - val_loss: 0.3789 - val_accuracy: 0.8462\n",
            "Epoch 38/100\n",
            "560/560 [==============================] - 1s 2ms/step - loss: 0.3530 - accuracy: 0.8535 - val_loss: 0.3727 - val_accuracy: 0.8467\n",
            "Epoch 39/100\n",
            "560/560 [==============================] - 1s 2ms/step - loss: 0.3343 - accuracy: 0.8621 - val_loss: 0.3742 - val_accuracy: 0.8454\n",
            "Epoch 40/100\n",
            "560/560 [==============================] - 1s 2ms/step - loss: 0.3476 - accuracy: 0.8554 - val_loss: 0.3716 - val_accuracy: 0.8487\n",
            "Epoch 41/100\n",
            "560/560 [==============================] - 1s 2ms/step - loss: 0.3366 - accuracy: 0.8659 - val_loss: 0.3781 - val_accuracy: 0.8442\n",
            "Epoch 42/100\n",
            "560/560 [==============================] - 1s 2ms/step - loss: 0.3508 - accuracy: 0.8540 - val_loss: 0.3712 - val_accuracy: 0.8504\n",
            "Epoch 43/100\n",
            "560/560 [==============================] - 1s 2ms/step - loss: 0.3482 - accuracy: 0.8497 - val_loss: 0.3713 - val_accuracy: 0.8483\n",
            "Epoch 44/100\n",
            "560/560 [==============================] - 1s 2ms/step - loss: 0.3350 - accuracy: 0.8616 - val_loss: 0.3794 - val_accuracy: 0.8408\n",
            "Epoch 45/100\n",
            "560/560 [==============================] - 1s 2ms/step - loss: 0.3431 - accuracy: 0.8594 - val_loss: 0.3725 - val_accuracy: 0.8475\n",
            "Epoch 46/100\n",
            "560/560 [==============================] - 1s 2ms/step - loss: 0.3443 - accuracy: 0.8562 - val_loss: 0.3749 - val_accuracy: 0.8446\n",
            "Epoch 47/100\n",
            "560/560 [==============================] - 1s 2ms/step - loss: 0.3509 - accuracy: 0.8547 - val_loss: 0.3716 - val_accuracy: 0.8462\n",
            "Epoch 48/100\n",
            "560/560 [==============================] - 1s 2ms/step - loss: 0.3364 - accuracy: 0.8546 - val_loss: 0.3727 - val_accuracy: 0.8475\n",
            "Epoch 49/100\n",
            "560/560 [==============================] - 1s 2ms/step - loss: 0.3559 - accuracy: 0.8504 - val_loss: 0.3713 - val_accuracy: 0.8487\n",
            "Epoch 50/100\n",
            "560/560 [==============================] - 1s 2ms/step - loss: 0.3358 - accuracy: 0.8573 - val_loss: 0.3726 - val_accuracy: 0.8492\n",
            "Epoch 51/100\n",
            "560/560 [==============================] - 1s 2ms/step - loss: 0.3442 - accuracy: 0.8587 - val_loss: 0.3714 - val_accuracy: 0.8492\n",
            "Epoch 52/100\n",
            "560/560 [==============================] - 1s 2ms/step - loss: 0.3428 - accuracy: 0.8636 - val_loss: 0.3743 - val_accuracy: 0.8479\n",
            "Epoch 53/100\n",
            "560/560 [==============================] - 1s 2ms/step - loss: 0.3340 - accuracy: 0.8618 - val_loss: 0.3736 - val_accuracy: 0.8496\n",
            "Epoch 54/100\n",
            "560/560 [==============================] - 1s 2ms/step - loss: 0.3439 - accuracy: 0.8589 - val_loss: 0.3721 - val_accuracy: 0.8454\n",
            "Epoch 55/100\n",
            "560/560 [==============================] - 1s 2ms/step - loss: 0.3238 - accuracy: 0.8710 - val_loss: 0.3725 - val_accuracy: 0.8458\n",
            "Epoch 56/100\n",
            "560/560 [==============================] - 1s 2ms/step - loss: 0.3376 - accuracy: 0.8609 - val_loss: 0.3752 - val_accuracy: 0.8504\n",
            "Epoch 57/100\n",
            "560/560 [==============================] - 1s 2ms/step - loss: 0.3430 - accuracy: 0.8546 - val_loss: 0.3745 - val_accuracy: 0.8475\n",
            "Epoch 58/100\n",
            "560/560 [==============================] - 1s 2ms/step - loss: 0.3278 - accuracy: 0.8690 - val_loss: 0.3712 - val_accuracy: 0.8479\n",
            "Epoch 59/100\n",
            "560/560 [==============================] - 1s 2ms/step - loss: 0.3380 - accuracy: 0.8598 - val_loss: 0.3702 - val_accuracy: 0.8496\n",
            "Epoch 60/100\n",
            "560/560 [==============================] - 1s 2ms/step - loss: 0.3387 - accuracy: 0.8567 - val_loss: 0.3717 - val_accuracy: 0.8496\n",
            "Epoch 61/100\n",
            "560/560 [==============================] - 1s 2ms/step - loss: 0.3298 - accuracy: 0.8697 - val_loss: 0.3789 - val_accuracy: 0.8475\n",
            "Epoch 62/100\n",
            "560/560 [==============================] - 1s 2ms/step - loss: 0.3360 - accuracy: 0.8633 - val_loss: 0.3744 - val_accuracy: 0.8471\n",
            "Epoch 63/100\n",
            "560/560 [==============================] - 1s 2ms/step - loss: 0.3416 - accuracy: 0.8564 - val_loss: 0.3863 - val_accuracy: 0.8479\n",
            "Epoch 64/100\n",
            "560/560 [==============================] - 1s 2ms/step - loss: 0.3274 - accuracy: 0.8692 - val_loss: 0.3731 - val_accuracy: 0.8492\n",
            "Epoch 65/100\n",
            "560/560 [==============================] - 1s 2ms/step - loss: 0.3369 - accuracy: 0.8644 - val_loss: 0.3698 - val_accuracy: 0.8483\n",
            "Epoch 66/100\n",
            "560/560 [==============================] - 1s 2ms/step - loss: 0.3252 - accuracy: 0.8676 - val_loss: 0.3798 - val_accuracy: 0.8475\n",
            "Epoch 67/100\n",
            "560/560 [==============================] - 1s 2ms/step - loss: 0.3310 - accuracy: 0.8645 - val_loss: 0.3758 - val_accuracy: 0.8450\n",
            "Epoch 68/100\n",
            "560/560 [==============================] - 1s 2ms/step - loss: 0.3309 - accuracy: 0.8686 - val_loss: 0.3729 - val_accuracy: 0.8475\n",
            "Epoch 69/100\n",
            "560/560 [==============================] - 1s 2ms/step - loss: 0.3474 - accuracy: 0.8555 - val_loss: 0.3711 - val_accuracy: 0.8475\n",
            "Epoch 70/100\n",
            "560/560 [==============================] - 1s 2ms/step - loss: 0.3371 - accuracy: 0.8593 - val_loss: 0.3693 - val_accuracy: 0.8487\n",
            "Epoch 71/100\n",
            "560/560 [==============================] - 1s 2ms/step - loss: 0.3369 - accuracy: 0.8595 - val_loss: 0.3705 - val_accuracy: 0.8487\n",
            "Epoch 72/100\n",
            "560/560 [==============================] - 1s 2ms/step - loss: 0.3276 - accuracy: 0.8673 - val_loss: 0.3737 - val_accuracy: 0.8496\n",
            "Epoch 73/100\n",
            "560/560 [==============================] - 1s 2ms/step - loss: 0.3470 - accuracy: 0.8544 - val_loss: 0.3721 - val_accuracy: 0.8475\n",
            "Epoch 74/100\n",
            "560/560 [==============================] - 1s 2ms/step - loss: 0.3291 - accuracy: 0.8652 - val_loss: 0.3728 - val_accuracy: 0.8483\n",
            "Epoch 75/100\n",
            "560/560 [==============================] - 1s 2ms/step - loss: 0.3361 - accuracy: 0.8636 - val_loss: 0.3714 - val_accuracy: 0.8467\n",
            "Epoch 76/100\n",
            "560/560 [==============================] - 1s 2ms/step - loss: 0.3337 - accuracy: 0.8679 - val_loss: 0.3760 - val_accuracy: 0.8471\n",
            "Epoch 77/100\n",
            "560/560 [==============================] - 1s 2ms/step - loss: 0.3235 - accuracy: 0.8665 - val_loss: 0.3693 - val_accuracy: 0.8479\n",
            "Epoch 78/100\n",
            "560/560 [==============================] - 1s 2ms/step - loss: 0.3413 - accuracy: 0.8588 - val_loss: 0.3702 - val_accuracy: 0.8475\n",
            "Epoch 79/100\n",
            "560/560 [==============================] - 1s 2ms/step - loss: 0.3288 - accuracy: 0.8680 - val_loss: 0.3693 - val_accuracy: 0.8458\n",
            "Epoch 80/100\n",
            "560/560 [==============================] - 1s 2ms/step - loss: 0.3356 - accuracy: 0.8646 - val_loss: 0.3728 - val_accuracy: 0.8475\n",
            "Epoch 81/100\n",
            "560/560 [==============================] - 1s 2ms/step - loss: 0.3297 - accuracy: 0.8640 - val_loss: 0.3688 - val_accuracy: 0.8504\n",
            "Epoch 82/100\n",
            "560/560 [==============================] - 1s 2ms/step - loss: 0.3263 - accuracy: 0.8692 - val_loss: 0.3693 - val_accuracy: 0.8483\n",
            "Epoch 83/100\n",
            "560/560 [==============================] - 1s 2ms/step - loss: 0.3198 - accuracy: 0.8728 - val_loss: 0.3686 - val_accuracy: 0.8458\n",
            "Epoch 84/100\n",
            "560/560 [==============================] - 1s 2ms/step - loss: 0.3140 - accuracy: 0.8712 - val_loss: 0.3767 - val_accuracy: 0.8467\n",
            "Epoch 85/100\n",
            "560/560 [==============================] - 1s 2ms/step - loss: 0.3416 - accuracy: 0.8562 - val_loss: 0.3739 - val_accuracy: 0.8446\n",
            "Epoch 86/100\n",
            "560/560 [==============================] - 1s 2ms/step - loss: 0.3489 - accuracy: 0.8490 - val_loss: 0.3683 - val_accuracy: 0.8496\n",
            "Epoch 87/100\n",
            "560/560 [==============================] - 1s 2ms/step - loss: 0.3143 - accuracy: 0.8764 - val_loss: 0.3715 - val_accuracy: 0.8475\n",
            "Epoch 88/100\n",
            "560/560 [==============================] - 1s 2ms/step - loss: 0.3205 - accuracy: 0.8649 - val_loss: 0.3703 - val_accuracy: 0.8475\n",
            "Epoch 89/100\n",
            "560/560 [==============================] - 1s 2ms/step - loss: 0.3323 - accuracy: 0.8602 - val_loss: 0.3710 - val_accuracy: 0.8479\n",
            "Epoch 90/100\n",
            "560/560 [==============================] - 1s 2ms/step - loss: 0.3315 - accuracy: 0.8656 - val_loss: 0.3750 - val_accuracy: 0.8487\n",
            "Epoch 91/100\n",
            "560/560 [==============================] - 1s 2ms/step - loss: 0.3473 - accuracy: 0.8586 - val_loss: 0.3733 - val_accuracy: 0.8487\n",
            "Epoch 92/100\n",
            "560/560 [==============================] - 1s 2ms/step - loss: 0.3348 - accuracy: 0.8695 - val_loss: 0.3695 - val_accuracy: 0.8483\n",
            "Epoch 93/100\n",
            "560/560 [==============================] - 1s 2ms/step - loss: 0.3339 - accuracy: 0.8684 - val_loss: 0.3714 - val_accuracy: 0.8433\n",
            "Epoch 94/100\n",
            "560/560 [==============================] - 1s 2ms/step - loss: 0.3346 - accuracy: 0.8667 - val_loss: 0.3711 - val_accuracy: 0.8492\n",
            "Epoch 95/100\n",
            "560/560 [==============================] - 1s 2ms/step - loss: 0.3372 - accuracy: 0.8582 - val_loss: 0.3712 - val_accuracy: 0.8462\n",
            "Epoch 96/100\n",
            "560/560 [==============================] - 1s 2ms/step - loss: 0.3428 - accuracy: 0.8557 - val_loss: 0.3744 - val_accuracy: 0.8471\n",
            "Epoch 97/100\n",
            "560/560 [==============================] - 1s 2ms/step - loss: 0.3336 - accuracy: 0.8578 - val_loss: 0.3708 - val_accuracy: 0.8467\n",
            "Epoch 98/100\n",
            "560/560 [==============================] - 1s 3ms/step - loss: 0.3291 - accuracy: 0.8660 - val_loss: 0.3685 - val_accuracy: 0.8492\n",
            "Epoch 99/100\n",
            "560/560 [==============================] - 1s 3ms/step - loss: 0.3302 - accuracy: 0.8672 - val_loss: 0.3689 - val_accuracy: 0.8521\n",
            "Epoch 100/100\n",
            "560/560 [==============================] - 1s 2ms/step - loss: 0.3366 - accuracy: 0.8650 - val_loss: 0.3756 - val_accuracy: 0.8433\n"
          ],
          "name": "stdout"
        }
      ]
    },
    {
      "cell_type": "code",
      "metadata": {
        "colab": {
          "base_uri": "https://localhost:8080/"
        },
        "id": "N0Pn5-JOcSJr",
        "outputId": "e112b2bf-b08e-49cf-df14-a0b4b7109d11"
      },
      "source": [
        "y_pred=clf.predict(x_test)\r\n",
        "y_pred"
      ],
      "execution_count": 97,
      "outputs": [
        {
          "output_type": "execute_result",
          "data": {
            "text/plain": [
              "array([[0.19925672],\n",
              "       [0.34635606],\n",
              "       [0.09734529],\n",
              "       ...,\n",
              "       [0.14256993],\n",
              "       [0.15021802],\n",
              "       [0.25949913]], dtype=float32)"
            ]
          },
          "metadata": {
            "tags": []
          },
          "execution_count": 97
        }
      ]
    },
    {
      "cell_type": "code",
      "metadata": {
        "colab": {
          "base_uri": "https://localhost:8080/"
        },
        "id": "0SauPuuPfC45",
        "outputId": "b1d62cc7-3930-49ef-8b41-0ef6a3dec2da"
      },
      "source": [
        "y_pred = (y_pred > 0.5)\r\n",
        "y_pred"
      ],
      "execution_count": 98,
      "outputs": [
        {
          "output_type": "execute_result",
          "data": {
            "text/plain": [
              "array([[False],\n",
              "       [False],\n",
              "       [False],\n",
              "       ...,\n",
              "       [False],\n",
              "       [False],\n",
              "       [False]])"
            ]
          },
          "metadata": {
            "tags": []
          },
          "execution_count": 98
        }
      ]
    },
    {
      "cell_type": "code",
      "metadata": {
        "colab": {
          "base_uri": "https://localhost:8080/"
        },
        "id": "-ln86wLnfC8F",
        "outputId": "3184162f-297a-48a2-ba69-c3dc4dc8eca7"
      },
      "source": [
        "from sklearn.metrics import confusion_matrix\r\n",
        "cm = confusion_matrix(y_test, y_pred)\r\n",
        "cm"
      ],
      "execution_count": 99,
      "outputs": [
        {
          "output_type": "execute_result",
          "data": {
            "text/plain": [
              "array([[1531,   64],\n",
              "       [ 205,  200]])"
            ]
          },
          "metadata": {
            "tags": []
          },
          "execution_count": 99
        }
      ]
    },
    {
      "cell_type": "code",
      "metadata": {
        "colab": {
          "base_uri": "https://localhost:8080/"
        },
        "id": "n_Mikw7PfC_r",
        "outputId": "7852497a-cee4-4c9f-dd61-d650bb5e94aa"
      },
      "source": [
        "from sklearn.metrics import accuracy_score\r\n",
        "score = accuracy_score(y_test, y_pred)\r\n",
        "print('The accuracy of ANN model is: {}%'.format(score*100))"
      ],
      "execution_count": 100,
      "outputs": [
        {
          "output_type": "stream",
          "text": [
            "The accuracy of ANN model is: 86.55000000000001%\n"
          ],
          "name": "stdout"
        }
      ]
    },
    {
      "cell_type": "code",
      "metadata": {
        "id": "2Crds2-_fxNm"
      },
      "source": [
        "def predict_exit(sample_value):\r\n",
        "  \r\n",
        "  # Convert list to numpy array\r\n",
        "  sample_value = np.array(sample_value)\r\n",
        "\r\n",
        "  # Reshape because sample_value contains only 1 record\r\n",
        "  sample_value = sample_value.reshape(1, -1)\r\n",
        "\r\n",
        "  # Feature Scaling\r\n",
        "  sample_value = scaler.transform(sample_value)\r\n",
        "\r\n",
        "  return clf.predict(sample_value)"
      ],
      "execution_count": 104,
      "outputs": []
    },
    {
      "cell_type": "code",
      "metadata": {
        "colab": {
          "base_uri": "https://localhost:8080/"
        },
        "id": "6lP6A8InfxdJ",
        "outputId": "1813c0ba-82ce-4279-b161-33a3c351e53f"
      },
      "source": [
        "sample_value = [738, 0, 62, 10, 83008.31, 1, 1, 1, 42766.03, 1, 0]\r\n",
        "if predict_exit(sample_value)>0.5:\r\n",
        "  print('Prediction: High chance of exit!')\r\n",
        "else:\r\n",
        "  print('Prediction: Low chance of exit.')"
      ],
      "execution_count": 105,
      "outputs": [
        {
          "output_type": "stream",
          "text": [
            "Prediction: Low chance of exit.\n"
          ],
          "name": "stdout"
        }
      ]
    },
    {
      "cell_type": "code",
      "metadata": {
        "colab": {
          "base_uri": "https://localhost:8080/"
        },
        "id": "GJKsczC_fxg_",
        "outputId": "205c89d0-404d-4b36-8579-7469dd3d415b"
      },
      "source": [
        "sample_value = [805, 1, 45, 9, 116585.97, 1, 1, 0, 189428.75, 1, 0]\r\n",
        "if predict_exit(sample_value)>0.5:\r\n",
        "  print('Prediction: High chance of exit!')\r\n",
        "else:\r\n",
        "  print('Prediction: Low chance of exit.')"
      ],
      "execution_count": 106,
      "outputs": [
        {
          "output_type": "stream",
          "text": [
            "Prediction: High chance of exit!\n"
          ],
          "name": "stdout"
        }
      ]
    }
  ]
}