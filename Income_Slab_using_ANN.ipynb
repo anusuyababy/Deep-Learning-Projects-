{
  "nbformat": 4,
  "nbformat_minor": 0,
  "metadata": {
    "language_info": {
      "name": "python",
      "version": "3.7.8",
      "mimetype": "text/x-python",
      "codemirror_mode": {
        "name": "ipython",
        "version": 3
      },
      "pygments_lexer": "ipython3",
      "nbconvert_exporter": "python",
      "file_extension": ".py"
    },
    "kernelspec": {
      "name": "python3",
      "display_name": "Python 3",
      "language": "python"
    },
    "colab": {
      "name": "Income Slab using ANN",
      "provenance": []
    },
    "accelerator": "GPU"
  },
  "cells": [
    {
      "cell_type": "code",
      "metadata": {
        "trusted": true,
        "id": "tt81scxl08wJ"
      },
      "source": [
        "import numpy as np\n",
        "import pandas as pd\n",
        "import matplotlib.pyplot as plt\n",
        "import seaborn as sns\n",
        "%matplotlib inline"
      ],
      "execution_count": 1,
      "outputs": []
    },
    {
      "cell_type": "code",
      "metadata": {
        "trusted": true,
        "colab": {
          "base_uri": "https://localhost:8080/",
          "height": 296
        },
        "id": "6Ce_G6AZ08wV",
        "outputId": "12d6abbe-60e4-4cab-be0e-cf2f6421cfe9"
      },
      "source": [
        "df=pd.read_csv('adult.csv')\n",
        "df.head()"
      ],
      "execution_count": 2,
      "outputs": [
        {
          "output_type": "execute_result",
          "data": {
            "text/html": [
              "<div>\n",
              "<style scoped>\n",
              "    .dataframe tbody tr th:only-of-type {\n",
              "        vertical-align: middle;\n",
              "    }\n",
              "\n",
              "    .dataframe tbody tr th {\n",
              "        vertical-align: top;\n",
              "    }\n",
              "\n",
              "    .dataframe thead th {\n",
              "        text-align: right;\n",
              "    }\n",
              "</style>\n",
              "<table border=\"1\" class=\"dataframe\">\n",
              "  <thead>\n",
              "    <tr style=\"text-align: right;\">\n",
              "      <th></th>\n",
              "      <th>age</th>\n",
              "      <th>workclass</th>\n",
              "      <th>fnlwgt</th>\n",
              "      <th>education</th>\n",
              "      <th>education.num</th>\n",
              "      <th>marital.status</th>\n",
              "      <th>occupation</th>\n",
              "      <th>relationship</th>\n",
              "      <th>race</th>\n",
              "      <th>sex</th>\n",
              "      <th>capital.gain</th>\n",
              "      <th>capital.loss</th>\n",
              "      <th>hours.per.week</th>\n",
              "      <th>native.country</th>\n",
              "      <th>income</th>\n",
              "    </tr>\n",
              "  </thead>\n",
              "  <tbody>\n",
              "    <tr>\n",
              "      <th>0</th>\n",
              "      <td>90</td>\n",
              "      <td>?</td>\n",
              "      <td>77053</td>\n",
              "      <td>HS-grad</td>\n",
              "      <td>9</td>\n",
              "      <td>Widowed</td>\n",
              "      <td>?</td>\n",
              "      <td>Not-in-family</td>\n",
              "      <td>White</td>\n",
              "      <td>Female</td>\n",
              "      <td>0</td>\n",
              "      <td>4356</td>\n",
              "      <td>40</td>\n",
              "      <td>United-States</td>\n",
              "      <td>&lt;=50K</td>\n",
              "    </tr>\n",
              "    <tr>\n",
              "      <th>1</th>\n",
              "      <td>82</td>\n",
              "      <td>Private</td>\n",
              "      <td>132870</td>\n",
              "      <td>HS-grad</td>\n",
              "      <td>9</td>\n",
              "      <td>Widowed</td>\n",
              "      <td>Exec-managerial</td>\n",
              "      <td>Not-in-family</td>\n",
              "      <td>White</td>\n",
              "      <td>Female</td>\n",
              "      <td>0</td>\n",
              "      <td>4356</td>\n",
              "      <td>18</td>\n",
              "      <td>United-States</td>\n",
              "      <td>&lt;=50K</td>\n",
              "    </tr>\n",
              "    <tr>\n",
              "      <th>2</th>\n",
              "      <td>66</td>\n",
              "      <td>?</td>\n",
              "      <td>186061</td>\n",
              "      <td>Some-college</td>\n",
              "      <td>10</td>\n",
              "      <td>Widowed</td>\n",
              "      <td>?</td>\n",
              "      <td>Unmarried</td>\n",
              "      <td>Black</td>\n",
              "      <td>Female</td>\n",
              "      <td>0</td>\n",
              "      <td>4356</td>\n",
              "      <td>40</td>\n",
              "      <td>United-States</td>\n",
              "      <td>&lt;=50K</td>\n",
              "    </tr>\n",
              "    <tr>\n",
              "      <th>3</th>\n",
              "      <td>54</td>\n",
              "      <td>Private</td>\n",
              "      <td>140359</td>\n",
              "      <td>7th-8th</td>\n",
              "      <td>4</td>\n",
              "      <td>Divorced</td>\n",
              "      <td>Machine-op-inspct</td>\n",
              "      <td>Unmarried</td>\n",
              "      <td>White</td>\n",
              "      <td>Female</td>\n",
              "      <td>0</td>\n",
              "      <td>3900</td>\n",
              "      <td>40</td>\n",
              "      <td>United-States</td>\n",
              "      <td>&lt;=50K</td>\n",
              "    </tr>\n",
              "    <tr>\n",
              "      <th>4</th>\n",
              "      <td>41</td>\n",
              "      <td>Private</td>\n",
              "      <td>264663</td>\n",
              "      <td>Some-college</td>\n",
              "      <td>10</td>\n",
              "      <td>Separated</td>\n",
              "      <td>Prof-specialty</td>\n",
              "      <td>Own-child</td>\n",
              "      <td>White</td>\n",
              "      <td>Female</td>\n",
              "      <td>0</td>\n",
              "      <td>3900</td>\n",
              "      <td>40</td>\n",
              "      <td>United-States</td>\n",
              "      <td>&lt;=50K</td>\n",
              "    </tr>\n",
              "  </tbody>\n",
              "</table>\n",
              "</div>"
            ],
            "text/plain": [
              "   age workclass  fnlwgt  ... hours.per.week  native.country income\n",
              "0   90         ?   77053  ...             40   United-States  <=50K\n",
              "1   82   Private  132870  ...             18   United-States  <=50K\n",
              "2   66         ?  186061  ...             40   United-States  <=50K\n",
              "3   54   Private  140359  ...             40   United-States  <=50K\n",
              "4   41   Private  264663  ...             40   United-States  <=50K\n",
              "\n",
              "[5 rows x 15 columns]"
            ]
          },
          "metadata": {
            "tags": []
          },
          "execution_count": 2
        }
      ]
    },
    {
      "cell_type": "code",
      "metadata": {
        "trusted": true,
        "colab": {
          "base_uri": "https://localhost:8080/"
        },
        "id": "I_pFBSaS08wb",
        "outputId": "df72baef-5639-4bb7-fda6-e4bf55002e3f"
      },
      "source": [
        "df.shape"
      ],
      "execution_count": 3,
      "outputs": [
        {
          "output_type": "execute_result",
          "data": {
            "text/plain": [
              "(32561, 15)"
            ]
          },
          "metadata": {
            "tags": []
          },
          "execution_count": 3
        }
      ]
    },
    {
      "cell_type": "code",
      "metadata": {
        "trusted": true,
        "colab": {
          "base_uri": "https://localhost:8080/"
        },
        "id": "2_dCOI2108we",
        "outputId": "e79c652f-f502-46f5-e2f4-60a7ef16b127"
      },
      "source": [
        "df.isnull().sum()"
      ],
      "execution_count": 4,
      "outputs": [
        {
          "output_type": "execute_result",
          "data": {
            "text/plain": [
              "age               0\n",
              "workclass         0\n",
              "fnlwgt            0\n",
              "education         0\n",
              "education.num     0\n",
              "marital.status    0\n",
              "occupation        0\n",
              "relationship      0\n",
              "race              0\n",
              "sex               0\n",
              "capital.gain      0\n",
              "capital.loss      0\n",
              "hours.per.week    0\n",
              "native.country    0\n",
              "income            0\n",
              "dtype: int64"
            ]
          },
          "metadata": {
            "tags": []
          },
          "execution_count": 4
        }
      ]
    },
    {
      "cell_type": "markdown",
      "metadata": {
        "id": "YXmbG01v08wg"
      },
      "source": [
        "SO THIS IS A CLASSIFICATION PROBLEM STATEMENT. SO WE HAVE TO CONVERT TARGET NUMERICAL VARIABLE TO CATEGORICAL VARIABLE"
      ]
    },
    {
      "cell_type": "markdown",
      "metadata": {
        "id": "nI1T2zkY08wi"
      },
      "source": [
        "EDA"
      ]
    },
    {
      "cell_type": "code",
      "metadata": {
        "trusted": true,
        "colab": {
          "base_uri": "https://localhost:8080/"
        },
        "id": "jiKkssxW08wk",
        "outputId": "f00c47fc-b67e-4fa1-c8bd-1d535f86269e"
      },
      "source": [
        "df.income.unique()"
      ],
      "execution_count": 5,
      "outputs": [
        {
          "output_type": "execute_result",
          "data": {
            "text/plain": [
              "array(['<=50K', '>50K'], dtype=object)"
            ]
          },
          "metadata": {
            "tags": []
          },
          "execution_count": 5
        }
      ]
    },
    {
      "cell_type": "code",
      "metadata": {
        "trusted": true,
        "colab": {
          "base_uri": "https://localhost:8080/",
          "height": 296
        },
        "id": "o85UBeIH08wm",
        "outputId": "1623d832-ca1c-457e-dea3-ea30fb4bb785"
      },
      "source": [
        "#converting target numerical value to categorical value\n",
        "g={'<=50K' : 0, '>50K' : 1 }\n",
        "df['income']=df['income'].map(g)\n",
        "df.head()"
      ],
      "execution_count": 6,
      "outputs": [
        {
          "output_type": "execute_result",
          "data": {
            "text/html": [
              "<div>\n",
              "<style scoped>\n",
              "    .dataframe tbody tr th:only-of-type {\n",
              "        vertical-align: middle;\n",
              "    }\n",
              "\n",
              "    .dataframe tbody tr th {\n",
              "        vertical-align: top;\n",
              "    }\n",
              "\n",
              "    .dataframe thead th {\n",
              "        text-align: right;\n",
              "    }\n",
              "</style>\n",
              "<table border=\"1\" class=\"dataframe\">\n",
              "  <thead>\n",
              "    <tr style=\"text-align: right;\">\n",
              "      <th></th>\n",
              "      <th>age</th>\n",
              "      <th>workclass</th>\n",
              "      <th>fnlwgt</th>\n",
              "      <th>education</th>\n",
              "      <th>education.num</th>\n",
              "      <th>marital.status</th>\n",
              "      <th>occupation</th>\n",
              "      <th>relationship</th>\n",
              "      <th>race</th>\n",
              "      <th>sex</th>\n",
              "      <th>capital.gain</th>\n",
              "      <th>capital.loss</th>\n",
              "      <th>hours.per.week</th>\n",
              "      <th>native.country</th>\n",
              "      <th>income</th>\n",
              "    </tr>\n",
              "  </thead>\n",
              "  <tbody>\n",
              "    <tr>\n",
              "      <th>0</th>\n",
              "      <td>90</td>\n",
              "      <td>?</td>\n",
              "      <td>77053</td>\n",
              "      <td>HS-grad</td>\n",
              "      <td>9</td>\n",
              "      <td>Widowed</td>\n",
              "      <td>?</td>\n",
              "      <td>Not-in-family</td>\n",
              "      <td>White</td>\n",
              "      <td>Female</td>\n",
              "      <td>0</td>\n",
              "      <td>4356</td>\n",
              "      <td>40</td>\n",
              "      <td>United-States</td>\n",
              "      <td>0</td>\n",
              "    </tr>\n",
              "    <tr>\n",
              "      <th>1</th>\n",
              "      <td>82</td>\n",
              "      <td>Private</td>\n",
              "      <td>132870</td>\n",
              "      <td>HS-grad</td>\n",
              "      <td>9</td>\n",
              "      <td>Widowed</td>\n",
              "      <td>Exec-managerial</td>\n",
              "      <td>Not-in-family</td>\n",
              "      <td>White</td>\n",
              "      <td>Female</td>\n",
              "      <td>0</td>\n",
              "      <td>4356</td>\n",
              "      <td>18</td>\n",
              "      <td>United-States</td>\n",
              "      <td>0</td>\n",
              "    </tr>\n",
              "    <tr>\n",
              "      <th>2</th>\n",
              "      <td>66</td>\n",
              "      <td>?</td>\n",
              "      <td>186061</td>\n",
              "      <td>Some-college</td>\n",
              "      <td>10</td>\n",
              "      <td>Widowed</td>\n",
              "      <td>?</td>\n",
              "      <td>Unmarried</td>\n",
              "      <td>Black</td>\n",
              "      <td>Female</td>\n",
              "      <td>0</td>\n",
              "      <td>4356</td>\n",
              "      <td>40</td>\n",
              "      <td>United-States</td>\n",
              "      <td>0</td>\n",
              "    </tr>\n",
              "    <tr>\n",
              "      <th>3</th>\n",
              "      <td>54</td>\n",
              "      <td>Private</td>\n",
              "      <td>140359</td>\n",
              "      <td>7th-8th</td>\n",
              "      <td>4</td>\n",
              "      <td>Divorced</td>\n",
              "      <td>Machine-op-inspct</td>\n",
              "      <td>Unmarried</td>\n",
              "      <td>White</td>\n",
              "      <td>Female</td>\n",
              "      <td>0</td>\n",
              "      <td>3900</td>\n",
              "      <td>40</td>\n",
              "      <td>United-States</td>\n",
              "      <td>0</td>\n",
              "    </tr>\n",
              "    <tr>\n",
              "      <th>4</th>\n",
              "      <td>41</td>\n",
              "      <td>Private</td>\n",
              "      <td>264663</td>\n",
              "      <td>Some-college</td>\n",
              "      <td>10</td>\n",
              "      <td>Separated</td>\n",
              "      <td>Prof-specialty</td>\n",
              "      <td>Own-child</td>\n",
              "      <td>White</td>\n",
              "      <td>Female</td>\n",
              "      <td>0</td>\n",
              "      <td>3900</td>\n",
              "      <td>40</td>\n",
              "      <td>United-States</td>\n",
              "      <td>0</td>\n",
              "    </tr>\n",
              "  </tbody>\n",
              "</table>\n",
              "</div>"
            ],
            "text/plain": [
              "   age workclass  fnlwgt  ... hours.per.week  native.country income\n",
              "0   90         ?   77053  ...             40   United-States      0\n",
              "1   82   Private  132870  ...             18   United-States      0\n",
              "2   66         ?  186061  ...             40   United-States      0\n",
              "3   54   Private  140359  ...             40   United-States      0\n",
              "4   41   Private  264663  ...             40   United-States      0\n",
              "\n",
              "[5 rows x 15 columns]"
            ]
          },
          "metadata": {
            "tags": []
          },
          "execution_count": 6
        }
      ]
    },
    {
      "cell_type": "code",
      "metadata": {
        "trusted": true,
        "colab": {
          "base_uri": "https://localhost:8080/",
          "height": 563
        },
        "id": "TovOxge_08wo",
        "outputId": "3109be84-76b4-4c06-9e97-260c5dc5dc7c"
      },
      "source": [
        "plt.figure(figsize= (20, 10))\n",
        "sns.heatmap(df.corr(), annot=True)"
      ],
      "execution_count": 7,
      "outputs": [
        {
          "output_type": "execute_result",
          "data": {
            "text/plain": [
              "<matplotlib.axes._subplots.AxesSubplot at 0x7fb3738357f0>"
            ]
          },
          "metadata": {
            "tags": []
          },
          "execution_count": 7
        },
        {
          "output_type": "display_data",
          "data": {
            "image/png": "[encoded data removed]",
            "text/plain": [
              "<Figure size 1440x720 with 2 Axes>"
            ]
          },
          "metadata": {
            "tags": [],
            "needs_background": "light"
          }
        }
      ]
    },
    {
      "cell_type": "code",
      "metadata": {
        "trusted": true,
        "colab": {
          "base_uri": "https://localhost:8080/"
        },
        "id": "LbeyiFA408wq",
        "outputId": "e8967b46-5ad4-42bd-fdd0-42aaa0b4a030"
      },
      "source": [
        "#This shows us the dataset is completely imbalanced dataset\n",
        "df.income.value_counts()"
      ],
      "execution_count": 8,
      "outputs": [
        {
          "output_type": "execute_result",
          "data": {
            "text/plain": [
              "0    24720\n",
              "1     7841\n",
              "Name: income, dtype: int64"
            ]
          },
          "metadata": {
            "tags": []
          },
          "execution_count": 8
        }
      ]
    },
    {
      "cell_type": "markdown",
      "metadata": {
        "id": "dtm7TvUK08ws"
      },
      "source": [
        "HANDLING MISSING VALUES"
      ]
    },
    {
      "cell_type": "code",
      "metadata": {
        "trusted": true,
        "colab": {
          "base_uri": "https://localhost:8080/",
          "height": 296
        },
        "id": "XnzQRsRD08wu",
        "outputId": "408f8ac6-4c0e-4920-ac9f-bf8e971a01cb"
      },
      "source": [
        "df=df.replace('?', np.NaN)\n",
        "df.head()"
      ],
      "execution_count": 9,
      "outputs": [
        {
          "output_type": "execute_result",
          "data": {
            "text/html": [
              "<div>\n",
              "<style scoped>\n",
              "    .dataframe tbody tr th:only-of-type {\n",
              "        vertical-align: middle;\n",
              "    }\n",
              "\n",
              "    .dataframe tbody tr th {\n",
              "        vertical-align: top;\n",
              "    }\n",
              "\n",
              "    .dataframe thead th {\n",
              "        text-align: right;\n",
              "    }\n",
              "</style>\n",
              "<table border=\"1\" class=\"dataframe\">\n",
              "  <thead>\n",
              "    <tr style=\"text-align: right;\">\n",
              "      <th></th>\n",
              "      <th>age</th>\n",
              "      <th>workclass</th>\n",
              "      <th>fnlwgt</th>\n",
              "      <th>education</th>\n",
              "      <th>education.num</th>\n",
              "      <th>marital.status</th>\n",
              "      <th>occupation</th>\n",
              "      <th>relationship</th>\n",
              "      <th>race</th>\n",
              "      <th>sex</th>\n",
              "      <th>capital.gain</th>\n",
              "      <th>capital.loss</th>\n",
              "      <th>hours.per.week</th>\n",
              "      <th>native.country</th>\n",
              "      <th>income</th>\n",
              "    </tr>\n",
              "  </thead>\n",
              "  <tbody>\n",
              "    <tr>\n",
              "      <th>0</th>\n",
              "      <td>90</td>\n",
              "      <td>NaN</td>\n",
              "      <td>77053</td>\n",
              "      <td>HS-grad</td>\n",
              "      <td>9</td>\n",
              "      <td>Widowed</td>\n",
              "      <td>NaN</td>\n",
              "      <td>Not-in-family</td>\n",
              "      <td>White</td>\n",
              "      <td>Female</td>\n",
              "      <td>0</td>\n",
              "      <td>4356</td>\n",
              "      <td>40</td>\n",
              "      <td>United-States</td>\n",
              "      <td>0</td>\n",
              "    </tr>\n",
              "    <tr>\n",
              "      <th>1</th>\n",
              "      <td>82</td>\n",
              "      <td>Private</td>\n",
              "      <td>132870</td>\n",
              "      <td>HS-grad</td>\n",
              "      <td>9</td>\n",
              "      <td>Widowed</td>\n",
              "      <td>Exec-managerial</td>\n",
              "      <td>Not-in-family</td>\n",
              "      <td>White</td>\n",
              "      <td>Female</td>\n",
              "      <td>0</td>\n",
              "      <td>4356</td>\n",
              "      <td>18</td>\n",
              "      <td>United-States</td>\n",
              "      <td>0</td>\n",
              "    </tr>\n",
              "    <tr>\n",
              "      <th>2</th>\n",
              "      <td>66</td>\n",
              "      <td>NaN</td>\n",
              "      <td>186061</td>\n",
              "      <td>Some-college</td>\n",
              "      <td>10</td>\n",
              "      <td>Widowed</td>\n",
              "      <td>NaN</td>\n",
              "      <td>Unmarried</td>\n",
              "      <td>Black</td>\n",
              "      <td>Female</td>\n",
              "      <td>0</td>\n",
              "      <td>4356</td>\n",
              "      <td>40</td>\n",
              "      <td>United-States</td>\n",
              "      <td>0</td>\n",
              "    </tr>\n",
              "    <tr>\n",
              "      <th>3</th>\n",
              "      <td>54</td>\n",
              "      <td>Private</td>\n",
              "      <td>140359</td>\n",
              "      <td>7th-8th</td>\n",
              "      <td>4</td>\n",
              "      <td>Divorced</td>\n",
              "      <td>Machine-op-inspct</td>\n",
              "      <td>Unmarried</td>\n",
              "      <td>White</td>\n",
              "      <td>Female</td>\n",
              "      <td>0</td>\n",
              "      <td>3900</td>\n",
              "      <td>40</td>\n",
              "      <td>United-States</td>\n",
              "      <td>0</td>\n",
              "    </tr>\n",
              "    <tr>\n",
              "      <th>4</th>\n",
              "      <td>41</td>\n",
              "      <td>Private</td>\n",
              "      <td>264663</td>\n",
              "      <td>Some-college</td>\n",
              "      <td>10</td>\n",
              "      <td>Separated</td>\n",
              "      <td>Prof-specialty</td>\n",
              "      <td>Own-child</td>\n",
              "      <td>White</td>\n",
              "      <td>Female</td>\n",
              "      <td>0</td>\n",
              "      <td>3900</td>\n",
              "      <td>40</td>\n",
              "      <td>United-States</td>\n",
              "      <td>0</td>\n",
              "    </tr>\n",
              "  </tbody>\n",
              "</table>\n",
              "</div>"
            ],
            "text/plain": [
              "   age workclass  fnlwgt  ... hours.per.week  native.country income\n",
              "0   90       NaN   77053  ...             40   United-States      0\n",
              "1   82   Private  132870  ...             18   United-States      0\n",
              "2   66       NaN  186061  ...             40   United-States      0\n",
              "3   54   Private  140359  ...             40   United-States      0\n",
              "4   41   Private  264663  ...             40   United-States      0\n",
              "\n",
              "[5 rows x 15 columns]"
            ]
          },
          "metadata": {
            "tags": []
          },
          "execution_count": 9
        }
      ]
    },
    {
      "cell_type": "code",
      "metadata": {
        "trusted": true,
        "colab": {
          "base_uri": "https://localhost:8080/"
        },
        "id": "pNITg7cU08wx",
        "outputId": "41fd2b6a-98fc-423b-e30d-1f07cd2ce5f0"
      },
      "source": [
        "df.isnull().sum()"
      ],
      "execution_count": 10,
      "outputs": [
        {
          "output_type": "execute_result",
          "data": {
            "text/plain": [
              "age                  0\n",
              "workclass         1836\n",
              "fnlwgt               0\n",
              "education            0\n",
              "education.num        0\n",
              "marital.status       0\n",
              "occupation        1843\n",
              "relationship         0\n",
              "race                 0\n",
              "sex                  0\n",
              "capital.gain         0\n",
              "capital.loss         0\n",
              "hours.per.week       0\n",
              "native.country     583\n",
              "income               0\n",
              "dtype: int64"
            ]
          },
          "metadata": {
            "tags": []
          },
          "execution_count": 10
        }
      ]
    },
    {
      "cell_type": "code",
      "metadata": {
        "trusted": true,
        "colab": {
          "base_uri": "https://localhost:8080/"
        },
        "id": "UujyqoV108wx",
        "outputId": "9a86dd5e-9df0-4378-be1b-c67880a86e0a"
      },
      "source": [
        "df.info()"
      ],
      "execution_count": 11,
      "outputs": [
        {
          "output_type": "stream",
          "text": [
            "<class 'pandas.core.frame.DataFrame'>\n",
            "RangeIndex: 32561 entries, 0 to 32560\n",
            "Data columns (total 15 columns):\n",
            " #   Column          Non-Null Count  Dtype \n",
            "---  ------          --------------  ----- \n",
            " 0   age             32561 non-null  int64 \n",
            " 1   workclass       30725 non-null  object\n",
            " 2   fnlwgt          32561 non-null  int64 \n",
            " 3   education       32561 non-null  object\n",
            " 4   education.num   32561 non-null  int64 \n",
            " 5   marital.status  32561 non-null  object\n",
            " 6   occupation      30718 non-null  object\n",
            " 7   relationship    32561 non-null  object\n",
            " 8   race            32561 non-null  object\n",
            " 9   sex             32561 non-null  object\n",
            " 10  capital.gain    32561 non-null  int64 \n",
            " 11  capital.loss    32561 non-null  int64 \n",
            " 12  hours.per.week  32561 non-null  int64 \n",
            " 13  native.country  31978 non-null  object\n",
            " 14  income          32561 non-null  int64 \n",
            "dtypes: int64(7), object(8)\n",
            "memory usage: 3.7+ MB\n"
          ],
          "name": "stdout"
        }
      ]
    },
    {
      "cell_type": "code",
      "metadata": {
        "trusted": true,
        "colab": {
          "base_uri": "https://localhost:8080/"
        },
        "id": "3uqDeb7F08wz",
        "outputId": "4c732e0b-f399-42f7-92bc-959778233971"
      },
      "source": [
        "df.workclass.unique()"
      ],
      "execution_count": 12,
      "outputs": [
        {
          "output_type": "execute_result",
          "data": {
            "text/plain": [
              "array([nan, 'Private', 'State-gov', 'Federal-gov', 'Self-emp-not-inc',\n",
              "       'Self-emp-inc', 'Local-gov', 'Without-pay', 'Never-worked'],\n",
              "      dtype=object)"
            ]
          },
          "metadata": {
            "tags": []
          },
          "execution_count": 12
        }
      ]
    },
    {
      "cell_type": "code",
      "metadata": {
        "trusted": true,
        "colab": {
          "base_uri": "https://localhost:8080/"
        },
        "id": "eVY9PWJ708w1",
        "outputId": "e73b71b5-2499-45a3-cffa-5933c221514e"
      },
      "source": [
        "df.occupation.unique()"
      ],
      "execution_count": 13,
      "outputs": [
        {
          "output_type": "execute_result",
          "data": {
            "text/plain": [
              "array([nan, 'Exec-managerial', 'Machine-op-inspct', 'Prof-specialty',\n",
              "       'Other-service', 'Adm-clerical', 'Craft-repair',\n",
              "       'Transport-moving', 'Handlers-cleaners', 'Sales',\n",
              "       'Farming-fishing', 'Tech-support', 'Protective-serv',\n",
              "       'Armed-Forces', 'Priv-house-serv'], dtype=object)"
            ]
          },
          "metadata": {
            "tags": []
          },
          "execution_count": 13
        }
      ]
    },
    {
      "cell_type": "code",
      "metadata": {
        "trusted": true,
        "colab": {
          "base_uri": "https://localhost:8080/"
        },
        "id": "IoGh6F6Z08w2",
        "outputId": "6b687b2b-2987-4730-b75d-c9532e86da2b"
      },
      "source": [
        "df['native.country'].unique()"
      ],
      "execution_count": 14,
      "outputs": [
        {
          "output_type": "execute_result",
          "data": {
            "text/plain": [
              "array(['United-States', nan, 'Mexico', 'Greece', 'Vietnam', 'China',\n",
              "       'Taiwan', 'India', 'Philippines', 'Trinadad&Tobago', 'Canada',\n",
              "       'South', 'Holand-Netherlands', 'Puerto-Rico', 'Poland', 'Iran',\n",
              "       'England', 'Germany', 'Italy', 'Japan', 'Hong', 'Honduras', 'Cuba',\n",
              "       'Ireland', 'Cambodia', 'Peru', 'Nicaragua', 'Dominican-Republic',\n",
              "       'Haiti', 'El-Salvador', 'Hungary', 'Columbia', 'Guatemala',\n",
              "       'Jamaica', 'Ecuador', 'France', 'Yugoslavia', 'Scotland',\n",
              "       'Portugal', 'Laos', 'Thailand', 'Outlying-US(Guam-USVI-etc)'],\n",
              "      dtype=object)"
            ]
          },
          "metadata": {
            "tags": []
          },
          "execution_count": 14
        }
      ]
    },
    {
      "cell_type": "code",
      "metadata": {
        "trusted": true,
        "colab": {
          "base_uri": "https://localhost:8080/"
        },
        "id": "jGWBq5fe08w4",
        "outputId": "9fdb5254-7197-4d5b-d7ac-62a0547d516f"
      },
      "source": [
        "df.workclass.value_counts()"
      ],
      "execution_count": 15,
      "outputs": [
        {
          "output_type": "execute_result",
          "data": {
            "text/plain": [
              "Private             22696\n",
              "Self-emp-not-inc     2541\n",
              "Local-gov            2093\n",
              "State-gov            1298\n",
              "Self-emp-inc         1116\n",
              "Federal-gov           960\n",
              "Without-pay            14\n",
              "Never-worked            7\n",
              "Name: workclass, dtype: int64"
            ]
          },
          "metadata": {
            "tags": []
          },
          "execution_count": 15
        }
      ]
    },
    {
      "cell_type": "code",
      "metadata": {
        "trusted": true,
        "colab": {
          "base_uri": "https://localhost:8080/"
        },
        "id": "m7gYI2j708w4",
        "outputId": "2a8305eb-e274-4b4a-848d-eeb9e2528551"
      },
      "source": [
        "df.occupation.value_counts()"
      ],
      "execution_count": 16,
      "outputs": [
        {
          "output_type": "execute_result",
          "data": {
            "text/plain": [
              "Prof-specialty       4140\n",
              "Craft-repair         4099\n",
              "Exec-managerial      4066\n",
              "Adm-clerical         3770\n",
              "Sales                3650\n",
              "Other-service        3295\n",
              "Machine-op-inspct    2002\n",
              "Transport-moving     1597\n",
              "Handlers-cleaners    1370\n",
              "Farming-fishing       994\n",
              "Tech-support          928\n",
              "Protective-serv       649\n",
              "Priv-house-serv       149\n",
              "Armed-Forces            9\n",
              "Name: occupation, dtype: int64"
            ]
          },
          "metadata": {
            "tags": []
          },
          "execution_count": 16
        }
      ]
    },
    {
      "cell_type": "code",
      "metadata": {
        "trusted": true,
        "colab": {
          "base_uri": "https://localhost:8080/"
        },
        "id": "VBdNqz-G08w6",
        "outputId": "6fe4116c-9268-4a83-f71e-34de6556c877"
      },
      "source": [
        "df['native.country'].value_counts()"
      ],
      "execution_count": 17,
      "outputs": [
        {
          "output_type": "execute_result",
          "data": {
            "text/plain": [
              "United-States                 29170\n",
              "Mexico                          643\n",
              "Philippines                     198\n",
              "Germany                         137\n",
              "Canada                          121\n",
              "Puerto-Rico                     114\n",
              "El-Salvador                     106\n",
              "India                           100\n",
              "Cuba                             95\n",
              "England                          90\n",
              "Jamaica                          81\n",
              "South                            80\n",
              "China                            75\n",
              "Italy                            73\n",
              "Dominican-Republic               70\n",
              "Vietnam                          67\n",
              "Guatemala                        64\n",
              "Japan                            62\n",
              "Poland                           60\n",
              "Columbia                         59\n",
              "Taiwan                           51\n",
              "Haiti                            44\n",
              "Iran                             43\n",
              "Portugal                         37\n",
              "Nicaragua                        34\n",
              "Peru                             31\n",
              "Greece                           29\n",
              "France                           29\n",
              "Ecuador                          28\n",
              "Ireland                          24\n",
              "Hong                             20\n",
              "Cambodia                         19\n",
              "Trinadad&Tobago                  19\n",
              "Laos                             18\n",
              "Thailand                         18\n",
              "Yugoslavia                       16\n",
              "Outlying-US(Guam-USVI-etc)       14\n",
              "Hungary                          13\n",
              "Honduras                         13\n",
              "Scotland                         12\n",
              "Holand-Netherlands                1\n",
              "Name: native.country, dtype: int64"
            ]
          },
          "metadata": {
            "tags": []
          },
          "execution_count": 17
        }
      ]
    },
    {
      "cell_type": "code",
      "metadata": {
        "trusted": true,
        "colab": {
          "base_uri": "https://localhost:8080/",
          "height": 296
        },
        "id": "VBgS7ujd08w6",
        "outputId": "48cc1256-a6c3-4a32-c679-9261d089de93"
      },
      "source": [
        "df['workclass']=df['workclass'].fillna('Private')\n",
        "df['occupation']=df['occupation'].fillna('Other')\n",
        "df['native.country']=df['native.country'].fillna('United-States')\n",
        "df.head()"
      ],
      "execution_count": 18,
      "outputs": [
        {
          "output_type": "execute_result",
          "data": {
            "text/html": [
              "<div>\n",
              "<style scoped>\n",
              "    .dataframe tbody tr th:only-of-type {\n",
              "        vertical-align: middle;\n",
              "    }\n",
              "\n",
              "    .dataframe tbody tr th {\n",
              "        vertical-align: top;\n",
              "    }\n",
              "\n",
              "    .dataframe thead th {\n",
              "        text-align: right;\n",
              "    }\n",
              "</style>\n",
              "<table border=\"1\" class=\"dataframe\">\n",
              "  <thead>\n",
              "    <tr style=\"text-align: right;\">\n",
              "      <th></th>\n",
              "      <th>age</th>\n",
              "      <th>workclass</th>\n",
              "      <th>fnlwgt</th>\n",
              "      <th>education</th>\n",
              "      <th>education.num</th>\n",
              "      <th>marital.status</th>\n",
              "      <th>occupation</th>\n",
              "      <th>relationship</th>\n",
              "      <th>race</th>\n",
              "      <th>sex</th>\n",
              "      <th>capital.gain</th>\n",
              "      <th>capital.loss</th>\n",
              "      <th>hours.per.week</th>\n",
              "      <th>native.country</th>\n",
              "      <th>income</th>\n",
              "    </tr>\n",
              "  </thead>\n",
              "  <tbody>\n",
              "    <tr>\n",
              "      <th>0</th>\n",
              "      <td>90</td>\n",
              "      <td>Private</td>\n",
              "      <td>77053</td>\n",
              "      <td>HS-grad</td>\n",
              "      <td>9</td>\n",
              "      <td>Widowed</td>\n",
              "      <td>Other</td>\n",
              "      <td>Not-in-family</td>\n",
              "      <td>White</td>\n",
              "      <td>Female</td>\n",
              "      <td>0</td>\n",
              "      <td>4356</td>\n",
              "      <td>40</td>\n",
              "      <td>United-States</td>\n",
              "      <td>0</td>\n",
              "    </tr>\n",
              "    <tr>\n",
              "      <th>1</th>\n",
              "      <td>82</td>\n",
              "      <td>Private</td>\n",
              "      <td>132870</td>\n",
              "      <td>HS-grad</td>\n",
              "      <td>9</td>\n",
              "      <td>Widowed</td>\n",
              "      <td>Exec-managerial</td>\n",
              "      <td>Not-in-family</td>\n",
              "      <td>White</td>\n",
              "      <td>Female</td>\n",
              "      <td>0</td>\n",
              "      <td>4356</td>\n",
              "      <td>18</td>\n",
              "      <td>United-States</td>\n",
              "      <td>0</td>\n",
              "    </tr>\n",
              "    <tr>\n",
              "      <th>2</th>\n",
              "      <td>66</td>\n",
              "      <td>Private</td>\n",
              "      <td>186061</td>\n",
              "      <td>Some-college</td>\n",
              "      <td>10</td>\n",
              "      <td>Widowed</td>\n",
              "      <td>Other</td>\n",
              "      <td>Unmarried</td>\n",
              "      <td>Black</td>\n",
              "      <td>Female</td>\n",
              "      <td>0</td>\n",
              "      <td>4356</td>\n",
              "      <td>40</td>\n",
              "      <td>United-States</td>\n",
              "      <td>0</td>\n",
              "    </tr>\n",
              "    <tr>\n",
              "      <th>3</th>\n",
              "      <td>54</td>\n",
              "      <td>Private</td>\n",
              "      <td>140359</td>\n",
              "      <td>7th-8th</td>\n",
              "      <td>4</td>\n",
              "      <td>Divorced</td>\n",
              "      <td>Machine-op-inspct</td>\n",
              "      <td>Unmarried</td>\n",
              "      <td>White</td>\n",
              "      <td>Female</td>\n",
              "      <td>0</td>\n",
              "      <td>3900</td>\n",
              "      <td>40</td>\n",
              "      <td>United-States</td>\n",
              "      <td>0</td>\n",
              "    </tr>\n",
              "    <tr>\n",
              "      <th>4</th>\n",
              "      <td>41</td>\n",
              "      <td>Private</td>\n",
              "      <td>264663</td>\n",
              "      <td>Some-college</td>\n",
              "      <td>10</td>\n",
              "      <td>Separated</td>\n",
              "      <td>Prof-specialty</td>\n",
              "      <td>Own-child</td>\n",
              "      <td>White</td>\n",
              "      <td>Female</td>\n",
              "      <td>0</td>\n",
              "      <td>3900</td>\n",
              "      <td>40</td>\n",
              "      <td>United-States</td>\n",
              "      <td>0</td>\n",
              "    </tr>\n",
              "  </tbody>\n",
              "</table>\n",
              "</div>"
            ],
            "text/plain": [
              "   age workclass  fnlwgt  ... hours.per.week  native.country income\n",
              "0   90   Private   77053  ...             40   United-States      0\n",
              "1   82   Private  132870  ...             18   United-States      0\n",
              "2   66   Private  186061  ...             40   United-States      0\n",
              "3   54   Private  140359  ...             40   United-States      0\n",
              "4   41   Private  264663  ...             40   United-States      0\n",
              "\n",
              "[5 rows x 15 columns]"
            ]
          },
          "metadata": {
            "tags": []
          },
          "execution_count": 18
        }
      ]
    },
    {
      "cell_type": "code",
      "metadata": {
        "trusted": true,
        "colab": {
          "base_uri": "https://localhost:8080/"
        },
        "id": "ZZYKdR2W08w8",
        "outputId": "46e535da-0c2f-4e42-f446-01d0c9b38a84"
      },
      "source": [
        "df.isnull().sum()"
      ],
      "execution_count": 19,
      "outputs": [
        {
          "output_type": "execute_result",
          "data": {
            "text/plain": [
              "age               0\n",
              "workclass         0\n",
              "fnlwgt            0\n",
              "education         0\n",
              "education.num     0\n",
              "marital.status    0\n",
              "occupation        0\n",
              "relationship      0\n",
              "race              0\n",
              "sex               0\n",
              "capital.gain      0\n",
              "capital.loss      0\n",
              "hours.per.week    0\n",
              "native.country    0\n",
              "income            0\n",
              "dtype: int64"
            ]
          },
          "metadata": {
            "tags": []
          },
          "execution_count": 19
        }
      ]
    },
    {
      "cell_type": "code",
      "metadata": {
        "trusted": true,
        "colab": {
          "base_uri": "https://localhost:8080/",
          "height": 817
        },
        "id": "hz3zIIY-08w8",
        "outputId": "96c2c343-be3a-422f-ca3e-2f1c1d773b9f"
      },
      "source": [
        "df.hist(figsize=(30,20))"
      ],
      "execution_count": 20,
      "outputs": [
        {
          "output_type": "execute_result",
          "data": {
            "text/plain": [
              "array([[<matplotlib.axes._subplots.AxesSubplot object at 0x7fb3709f66d8>,\n",
              "        <matplotlib.axes._subplots.AxesSubplot object at 0x7fb3709ab978>,\n",
              "        <matplotlib.axes._subplots.AxesSubplot object at 0x7fb37095ebe0>],\n",
              "       [<matplotlib.axes._subplots.AxesSubplot object at 0x7fb370992e48>,\n",
              "        <matplotlib.axes._subplots.AxesSubplot object at 0x7fb3709550f0>,\n",
              "        <matplotlib.axes._subplots.AxesSubplot object at 0x7fb370908358>],\n",
              "       [<matplotlib.axes._subplots.AxesSubplot object at 0x7fb3708b95c0>,\n",
              "        <matplotlib.axes._subplots.AxesSubplot object at 0x7fb37086f7f0>,\n",
              "        <matplotlib.axes._subplots.AxesSubplot object at 0x7fb37086f860>]],\n",
              "      dtype=object)"
            ]
          },
          "metadata": {
            "tags": []
          },
          "execution_count": 20
        },
        {
          "output_type": "display_data",
          "data": {
            "image/png": "[encoded data removed]",
            "text/plain": [
              "<Figure size 2160x1440 with 9 Axes>"
            ]
          },
          "metadata": {
            "tags": [],
            "needs_background": "light"
          }
        }
      ]
    },
    {
      "cell_type": "code",
      "metadata": {
        "trusted": true,
        "colab": {
          "base_uri": "https://localhost:8080/"
        },
        "id": "TO9BaUrc08w9",
        "outputId": "5211e641-21f1-4def-837e-ef4663e44aec"
      },
      "source": [
        "df.columns"
      ],
      "execution_count": 21,
      "outputs": [
        {
          "output_type": "execute_result",
          "data": {
            "text/plain": [
              "Index(['age', 'workclass', 'fnlwgt', 'education', 'education.num',\n",
              "       'marital.status', 'occupation', 'relationship', 'race', 'sex',\n",
              "       'capital.gain', 'capital.loss', 'hours.per.week', 'native.country',\n",
              "       'income'],\n",
              "      dtype='object')"
            ]
          },
          "metadata": {
            "tags": []
          },
          "execution_count": 21
        }
      ]
    },
    {
      "cell_type": "code",
      "metadata": {
        "trusted": true,
        "colab": {
          "base_uri": "https://localhost:8080/"
        },
        "id": "efNTn0RJ08w-",
        "outputId": "e5c4992e-5a90-450b-ddf0-aaebb4645099"
      },
      "source": [
        "df.race.unique()"
      ],
      "execution_count": 22,
      "outputs": [
        {
          "output_type": "execute_result",
          "data": {
            "text/plain": [
              "array(['White', 'Black', 'Asian-Pac-Islander', 'Other',\n",
              "       'Amer-Indian-Eskimo'], dtype=object)"
            ]
          },
          "metadata": {
            "tags": []
          },
          "execution_count": 22
        }
      ]
    },
    {
      "cell_type": "code",
      "metadata": {
        "trusted": true,
        "colab": {
          "base_uri": "https://localhost:8080/"
        },
        "id": "r2IX5yt808xB",
        "outputId": "5f7d4c79-1c8c-4d07-8c61-bc00970f531e"
      },
      "source": [
        "df.sex.unique()"
      ],
      "execution_count": 23,
      "outputs": [
        {
          "output_type": "execute_result",
          "data": {
            "text/plain": [
              "array(['Female', 'Male'], dtype=object)"
            ]
          },
          "metadata": {
            "tags": []
          },
          "execution_count": 23
        }
      ]
    },
    {
      "cell_type": "code",
      "metadata": {
        "trusted": true,
        "colab": {
          "base_uri": "https://localhost:8080/"
        },
        "id": "r36l4aWz08xC",
        "outputId": "5de27487-236d-4f62-aae7-58194e5670dc"
      },
      "source": [
        "df['marital.status'].unique()"
      ],
      "execution_count": 24,
      "outputs": [
        {
          "output_type": "execute_result",
          "data": {
            "text/plain": [
              "array(['Widowed', 'Divorced', 'Separated', 'Never-married',\n",
              "       'Married-civ-spouse', 'Married-spouse-absent', 'Married-AF-spouse'],\n",
              "      dtype=object)"
            ]
          },
          "metadata": {
            "tags": []
          },
          "execution_count": 24
        }
      ]
    },
    {
      "cell_type": "code",
      "metadata": {
        "trusted": true,
        "colab": {
          "base_uri": "https://localhost:8080/"
        },
        "id": "va9eM7X908xD",
        "outputId": "45e4e948-4ea6-438c-b35b-da5ced2795d1"
      },
      "source": [
        "df.education.unique()"
      ],
      "execution_count": 25,
      "outputs": [
        {
          "output_type": "execute_result",
          "data": {
            "text/plain": [
              "array(['HS-grad', 'Some-college', '7th-8th', '10th', 'Doctorate',\n",
              "       'Prof-school', 'Bachelors', 'Masters', '11th', 'Assoc-acdm',\n",
              "       'Assoc-voc', '1st-4th', '5th-6th', '12th', '9th', 'Preschool'],\n",
              "      dtype=object)"
            ]
          },
          "metadata": {
            "tags": []
          },
          "execution_count": 25
        }
      ]
    },
    {
      "cell_type": "code",
      "metadata": {
        "trusted": true,
        "colab": {
          "base_uri": "https://localhost:8080/"
        },
        "id": "0x2QnVKl08xE",
        "outputId": "e36792fc-3f30-4f54-f27d-8d1e0e36cf07"
      },
      "source": [
        "df.relationship.unique()"
      ],
      "execution_count": 26,
      "outputs": [
        {
          "output_type": "execute_result",
          "data": {
            "text/plain": [
              "array(['Not-in-family', 'Unmarried', 'Own-child', 'Other-relative',\n",
              "       'Husband', 'Wife'], dtype=object)"
            ]
          },
          "metadata": {
            "tags": []
          },
          "execution_count": 26
        }
      ]
    },
    {
      "cell_type": "code",
      "metadata": {
        "trusted": true,
        "id": "1XRfxjq_08xF"
      },
      "source": [
        "col = ['workclass', 'education', 'marital.status', 'occupation', 'relationship', 'race', 'sex', 'native.country']"
      ],
      "execution_count": 27,
      "outputs": []
    },
    {
      "cell_type": "code",
      "metadata": {
        "trusted": true,
        "colab": {
          "base_uri": "https://localhost:8080/"
        },
        "id": "Az7kEM6b08xF",
        "outputId": "4ef81594-2bd1-41a3-cf90-b8ae34a095af"
      },
      "source": [
        "df['native.country'].value_counts().to_dict()"
      ],
      "execution_count": 28,
      "outputs": [
        {
          "output_type": "execute_result",
          "data": {
            "text/plain": [
              "{'Cambodia': 19,\n",
              " 'Canada': 121,\n",
              " 'China': 75,\n",
              " 'Columbia': 59,\n",
              " 'Cuba': 95,\n",
              " 'Dominican-Republic': 70,\n",
              " 'Ecuador': 28,\n",
              " 'El-Salvador': 106,\n",
              " 'England': 90,\n",
              " 'France': 29,\n",
              " 'Germany': 137,\n",
              " 'Greece': 29,\n",
              " 'Guatemala': 64,\n",
              " 'Haiti': 44,\n",
              " 'Holand-Netherlands': 1,\n",
              " 'Honduras': 13,\n",
              " 'Hong': 20,\n",
              " 'Hungary': 13,\n",
              " 'India': 100,\n",
              " 'Iran': 43,\n",
              " 'Ireland': 24,\n",
              " 'Italy': 73,\n",
              " 'Jamaica': 81,\n",
              " 'Japan': 62,\n",
              " 'Laos': 18,\n",
              " 'Mexico': 643,\n",
              " 'Nicaragua': 34,\n",
              " 'Outlying-US(Guam-USVI-etc)': 14,\n",
              " 'Peru': 31,\n",
              " 'Philippines': 198,\n",
              " 'Poland': 60,\n",
              " 'Portugal': 37,\n",
              " 'Puerto-Rico': 114,\n",
              " 'Scotland': 12,\n",
              " 'South': 80,\n",
              " 'Taiwan': 51,\n",
              " 'Thailand': 18,\n",
              " 'Trinadad&Tobago': 19,\n",
              " 'United-States': 29753,\n",
              " 'Vietnam': 67,\n",
              " 'Yugoslavia': 16}"
            ]
          },
          "metadata": {
            "tags": []
          },
          "execution_count": 28
        }
      ]
    },
    {
      "cell_type": "code",
      "metadata": {
        "trusted": true,
        "colab": {
          "base_uri": "https://localhost:8080/",
          "height": 226
        },
        "id": "VAGYodQ908xH",
        "outputId": "bdd8f2fe-cd8f-4ef4-a8c7-de510cb16fd6"
      },
      "source": [
        "for feature in col:\n",
        "    labels_ordered=df[feature].value_counts().to_dict()\n",
        "    labels_ordered={k:i for i,k in enumerate(labels_ordered,0)}\n",
        "    df[feature]=df[feature].map(labels_ordered)\n",
        "df.head()"
      ],
      "execution_count": 29,
      "outputs": [
        {
          "output_type": "execute_result",
          "data": {
            "text/html": [
              "<div>\n",
              "<style scoped>\n",
              "    .dataframe tbody tr th:only-of-type {\n",
              "        vertical-align: middle;\n",
              "    }\n",
              "\n",
              "    .dataframe tbody tr th {\n",
              "        vertical-align: top;\n",
              "    }\n",
              "\n",
              "    .dataframe thead th {\n",
              "        text-align: right;\n",
              "    }\n",
              "</style>\n",
              "<table border=\"1\" class=\"dataframe\">\n",
              "  <thead>\n",
              "    <tr style=\"text-align: right;\">\n",
              "      <th></th>\n",
              "      <th>age</th>\n",
              "      <th>workclass</th>\n",
              "      <th>fnlwgt</th>\n",
              "      <th>education</th>\n",
              "      <th>education.num</th>\n",
              "      <th>marital.status</th>\n",
              "      <th>occupation</th>\n",
              "      <th>relationship</th>\n",
              "      <th>race</th>\n",
              "      <th>sex</th>\n",
              "      <th>capital.gain</th>\n",
              "      <th>capital.loss</th>\n",
              "      <th>hours.per.week</th>\n",
              "      <th>native.country</th>\n",
              "      <th>income</th>\n",
              "    </tr>\n",
              "  </thead>\n",
              "  <tbody>\n",
              "    <tr>\n",
              "      <th>0</th>\n",
              "      <td>90</td>\n",
              "      <td>0</td>\n",
              "      <td>77053</td>\n",
              "      <td>0</td>\n",
              "      <td>9</td>\n",
              "      <td>4</td>\n",
              "      <td>7</td>\n",
              "      <td>1</td>\n",
              "      <td>0</td>\n",
              "      <td>1</td>\n",
              "      <td>0</td>\n",
              "      <td>4356</td>\n",
              "      <td>40</td>\n",
              "      <td>0</td>\n",
              "      <td>0</td>\n",
              "    </tr>\n",
              "    <tr>\n",
              "      <th>1</th>\n",
              "      <td>82</td>\n",
              "      <td>0</td>\n",
              "      <td>132870</td>\n",
              "      <td>0</td>\n",
              "      <td>9</td>\n",
              "      <td>4</td>\n",
              "      <td>2</td>\n",
              "      <td>1</td>\n",
              "      <td>0</td>\n",
              "      <td>1</td>\n",
              "      <td>0</td>\n",
              "      <td>4356</td>\n",
              "      <td>18</td>\n",
              "      <td>0</td>\n",
              "      <td>0</td>\n",
              "    </tr>\n",
              "    <tr>\n",
              "      <th>2</th>\n",
              "      <td>66</td>\n",
              "      <td>0</td>\n",
              "      <td>186061</td>\n",
              "      <td>1</td>\n",
              "      <td>10</td>\n",
              "      <td>4</td>\n",
              "      <td>7</td>\n",
              "      <td>3</td>\n",
              "      <td>1</td>\n",
              "      <td>1</td>\n",
              "      <td>0</td>\n",
              "      <td>4356</td>\n",
              "      <td>40</td>\n",
              "      <td>0</td>\n",
              "      <td>0</td>\n",
              "    </tr>\n",
              "    <tr>\n",
              "      <th>3</th>\n",
              "      <td>54</td>\n",
              "      <td>0</td>\n",
              "      <td>140359</td>\n",
              "      <td>8</td>\n",
              "      <td>4</td>\n",
              "      <td>2</td>\n",
              "      <td>6</td>\n",
              "      <td>3</td>\n",
              "      <td>0</td>\n",
              "      <td>1</td>\n",
              "      <td>0</td>\n",
              "      <td>3900</td>\n",
              "      <td>40</td>\n",
              "      <td>0</td>\n",
              "      <td>0</td>\n",
              "    </tr>\n",
              "    <tr>\n",
              "      <th>4</th>\n",
              "      <td>41</td>\n",
              "      <td>0</td>\n",
              "      <td>264663</td>\n",
              "      <td>1</td>\n",
              "      <td>10</td>\n",
              "      <td>3</td>\n",
              "      <td>0</td>\n",
              "      <td>2</td>\n",
              "      <td>0</td>\n",
              "      <td>1</td>\n",
              "      <td>0</td>\n",
              "      <td>3900</td>\n",
              "      <td>40</td>\n",
              "      <td>0</td>\n",
              "      <td>0</td>\n",
              "    </tr>\n",
              "  </tbody>\n",
              "</table>\n",
              "</div>"
            ],
            "text/plain": [
              "   age  workclass  fnlwgt  ...  hours.per.week  native.country  income\n",
              "0   90          0   77053  ...              40               0       0\n",
              "1   82          0  132870  ...              18               0       0\n",
              "2   66          0  186061  ...              40               0       0\n",
              "3   54          0  140359  ...              40               0       0\n",
              "4   41          0  264663  ...              40               0       0\n",
              "\n",
              "[5 rows x 15 columns]"
            ]
          },
          "metadata": {
            "tags": []
          },
          "execution_count": 29
        }
      ]
    },
    {
      "cell_type": "code",
      "metadata": {
        "trusted": true,
        "colab": {
          "base_uri": "https://localhost:8080/",
          "height": 805
        },
        "id": "xlXKteWY08xJ",
        "outputId": "00e9ff56-194a-4b8a-ae7e-37436088256b"
      },
      "source": [
        "plt.figure(figsize=(20,15))\n",
        "sns.heatmap(df.corr(), annot=True)"
      ],
      "execution_count": 30,
      "outputs": [
        {
          "output_type": "execute_result",
          "data": {
            "text/plain": [
              "<matplotlib.axes._subplots.AxesSubplot at 0x7fb37093d9b0>"
            ]
          },
          "metadata": {
            "tags": []
          },
          "execution_count": 30
        },
        {
          "output_type": "display_data",
          "data": {
            "image/png": "[encoded data removed]",
            "text/plain": [
              "<Figure size 1440x1080 with 2 Axes>"
            ]
          },
          "metadata": {
            "tags": [],
            "needs_background": "light"
          }
        }
      ]
    },
    {
      "cell_type": "markdown",
      "metadata": {
        "id": "xbJv13Uk08xK"
      },
      "source": [
        "FEATURE SCALING"
      ]
    },
    {
      "cell_type": "code",
      "metadata": {
        "trusted": true,
        "colab": {
          "base_uri": "https://localhost:8080/",
          "height": 226
        },
        "id": "OabG2J2m08xM",
        "outputId": "f47c8862-114e-4724-caa8-9d931d5add4e"
      },
      "source": [
        "scale_data=[feature for feature in df.columns if feature not in ['income']]\n",
        "from sklearn.preprocessing import MinMaxScaler\n",
        "scaler=MinMaxScaler()\n",
        "df[scale_data]=scaler.fit_transform(df[scale_data])\n",
        "df.head()"
      ],
      "execution_count": 31,
      "outputs": [
        {
          "output_type": "execute_result",
          "data": {
            "text/html": [
              "<div>\n",
              "<style scoped>\n",
              "    .dataframe tbody tr th:only-of-type {\n",
              "        vertical-align: middle;\n",
              "    }\n",
              "\n",
              "    .dataframe tbody tr th {\n",
              "        vertical-align: top;\n",
              "    }\n",
              "\n",
              "    .dataframe thead th {\n",
              "        text-align: right;\n",
              "    }\n",
              "</style>\n",
              "<table border=\"1\" class=\"dataframe\">\n",
              "  <thead>\n",
              "    <tr style=\"text-align: right;\">\n",
              "      <th></th>\n",
              "      <th>age</th>\n",
              "      <th>workclass</th>\n",
              "      <th>fnlwgt</th>\n",
              "      <th>education</th>\n",
              "      <th>education.num</th>\n",
              "      <th>marital.status</th>\n",
              "      <th>occupation</th>\n",
              "      <th>relationship</th>\n",
              "      <th>race</th>\n",
              "      <th>sex</th>\n",
              "      <th>capital.gain</th>\n",
              "      <th>capital.loss</th>\n",
              "      <th>hours.per.week</th>\n",
              "      <th>native.country</th>\n",
              "      <th>income</th>\n",
              "    </tr>\n",
              "  </thead>\n",
              "  <tbody>\n",
              "    <tr>\n",
              "      <th>0</th>\n",
              "      <td>1.000000</td>\n",
              "      <td>0.0</td>\n",
              "      <td>0.043987</td>\n",
              "      <td>0.000000</td>\n",
              "      <td>0.533333</td>\n",
              "      <td>0.666667</td>\n",
              "      <td>0.500000</td>\n",
              "      <td>0.2</td>\n",
              "      <td>0.00</td>\n",
              "      <td>1.0</td>\n",
              "      <td>0.0</td>\n",
              "      <td>1.000000</td>\n",
              "      <td>0.397959</td>\n",
              "      <td>0.0</td>\n",
              "      <td>0</td>\n",
              "    </tr>\n",
              "    <tr>\n",
              "      <th>1</th>\n",
              "      <td>0.890411</td>\n",
              "      <td>0.0</td>\n",
              "      <td>0.081896</td>\n",
              "      <td>0.000000</td>\n",
              "      <td>0.533333</td>\n",
              "      <td>0.666667</td>\n",
              "      <td>0.142857</td>\n",
              "      <td>0.2</td>\n",
              "      <td>0.00</td>\n",
              "      <td>1.0</td>\n",
              "      <td>0.0</td>\n",
              "      <td>1.000000</td>\n",
              "      <td>0.173469</td>\n",
              "      <td>0.0</td>\n",
              "      <td>0</td>\n",
              "    </tr>\n",
              "    <tr>\n",
              "      <th>2</th>\n",
              "      <td>0.671233</td>\n",
              "      <td>0.0</td>\n",
              "      <td>0.118021</td>\n",
              "      <td>0.066667</td>\n",
              "      <td>0.600000</td>\n",
              "      <td>0.666667</td>\n",
              "      <td>0.500000</td>\n",
              "      <td>0.6</td>\n",
              "      <td>0.25</td>\n",
              "      <td>1.0</td>\n",
              "      <td>0.0</td>\n",
              "      <td>1.000000</td>\n",
              "      <td>0.397959</td>\n",
              "      <td>0.0</td>\n",
              "      <td>0</td>\n",
              "    </tr>\n",
              "    <tr>\n",
              "      <th>3</th>\n",
              "      <td>0.506849</td>\n",
              "      <td>0.0</td>\n",
              "      <td>0.086982</td>\n",
              "      <td>0.533333</td>\n",
              "      <td>0.200000</td>\n",
              "      <td>0.333333</td>\n",
              "      <td>0.428571</td>\n",
              "      <td>0.6</td>\n",
              "      <td>0.00</td>\n",
              "      <td>1.0</td>\n",
              "      <td>0.0</td>\n",
              "      <td>0.895317</td>\n",
              "      <td>0.397959</td>\n",
              "      <td>0.0</td>\n",
              "      <td>0</td>\n",
              "    </tr>\n",
              "    <tr>\n",
              "      <th>4</th>\n",
              "      <td>0.328767</td>\n",
              "      <td>0.0</td>\n",
              "      <td>0.171404</td>\n",
              "      <td>0.066667</td>\n",
              "      <td>0.600000</td>\n",
              "      <td>0.500000</td>\n",
              "      <td>0.000000</td>\n",
              "      <td>0.4</td>\n",
              "      <td>0.00</td>\n",
              "      <td>1.0</td>\n",
              "      <td>0.0</td>\n",
              "      <td>0.895317</td>\n",
              "      <td>0.397959</td>\n",
              "      <td>0.0</td>\n",
              "      <td>0</td>\n",
              "    </tr>\n",
              "  </tbody>\n",
              "</table>\n",
              "</div>"
            ],
            "text/plain": [
              "        age  workclass    fnlwgt  ...  hours.per.week  native.country  income\n",
              "0  1.000000        0.0  0.043987  ...        0.397959             0.0       0\n",
              "1  0.890411        0.0  0.081896  ...        0.173469             0.0       0\n",
              "2  0.671233        0.0  0.118021  ...        0.397959             0.0       0\n",
              "3  0.506849        0.0  0.086982  ...        0.397959             0.0       0\n",
              "4  0.328767        0.0  0.171404  ...        0.397959             0.0       0\n",
              "\n",
              "[5 rows x 15 columns]"
            ]
          },
          "metadata": {
            "tags": []
          },
          "execution_count": 31
        }
      ]
    },
    {
      "cell_type": "code",
      "metadata": {
        "trusted": true,
        "id": "6Vm2wEMs08xN"
      },
      "source": [
        "x = df.drop(['income'], axis=1)\n",
        "y = df.income"
      ],
      "execution_count": 32,
      "outputs": []
    },
    {
      "cell_type": "code",
      "metadata": {
        "trusted": true,
        "colab": {
          "base_uri": "https://localhost:8080/",
          "height": 226
        },
        "id": "-5EmNi5U08xN",
        "outputId": "0e690333-4310-4daf-dafa-e818e677b1a6"
      },
      "source": [
        "x.head()"
      ],
      "execution_count": 33,
      "outputs": [
        {
          "output_type": "execute_result",
          "data": {
            "text/html": [
              "<div>\n",
              "<style scoped>\n",
              "    .dataframe tbody tr th:only-of-type {\n",
              "        vertical-align: middle;\n",
              "    }\n",
              "\n",
              "    .dataframe tbody tr th {\n",
              "        vertical-align: top;\n",
              "    }\n",
              "\n",
              "    .dataframe thead th {\n",
              "        text-align: right;\n",
              "    }\n",
              "</style>\n",
              "<table border=\"1\" class=\"dataframe\">\n",
              "  <thead>\n",
              "    <tr style=\"text-align: right;\">\n",
              "      <th></th>\n",
              "      <th>age</th>\n",
              "      <th>workclass</th>\n",
              "      <th>fnlwgt</th>\n",
              "      <th>education</th>\n",
              "      <th>education.num</th>\n",
              "      <th>marital.status</th>\n",
              "      <th>occupation</th>\n",
              "      <th>relationship</th>\n",
              "      <th>race</th>\n",
              "      <th>sex</th>\n",
              "      <th>capital.gain</th>\n",
              "      <th>capital.loss</th>\n",
              "      <th>hours.per.week</th>\n",
              "      <th>native.country</th>\n",
              "    </tr>\n",
              "  </thead>\n",
              "  <tbody>\n",
              "    <tr>\n",
              "      <th>0</th>\n",
              "      <td>1.000000</td>\n",
              "      <td>0.0</td>\n",
              "      <td>0.043987</td>\n",
              "      <td>0.000000</td>\n",
              "      <td>0.533333</td>\n",
              "      <td>0.666667</td>\n",
              "      <td>0.500000</td>\n",
              "      <td>0.2</td>\n",
              "      <td>0.00</td>\n",
              "      <td>1.0</td>\n",
              "      <td>0.0</td>\n",
              "      <td>1.000000</td>\n",
              "      <td>0.397959</td>\n",
              "      <td>0.0</td>\n",
              "    </tr>\n",
              "    <tr>\n",
              "      <th>1</th>\n",
              "      <td>0.890411</td>\n",
              "      <td>0.0</td>\n",
              "      <td>0.081896</td>\n",
              "      <td>0.000000</td>\n",
              "      <td>0.533333</td>\n",
              "      <td>0.666667</td>\n",
              "      <td>0.142857</td>\n",
              "      <td>0.2</td>\n",
              "      <td>0.00</td>\n",
              "      <td>1.0</td>\n",
              "      <td>0.0</td>\n",
              "      <td>1.000000</td>\n",
              "      <td>0.173469</td>\n",
              "      <td>0.0</td>\n",
              "    </tr>\n",
              "    <tr>\n",
              "      <th>2</th>\n",
              "      <td>0.671233</td>\n",
              "      <td>0.0</td>\n",
              "      <td>0.118021</td>\n",
              "      <td>0.066667</td>\n",
              "      <td>0.600000</td>\n",
              "      <td>0.666667</td>\n",
              "      <td>0.500000</td>\n",
              "      <td>0.6</td>\n",
              "      <td>0.25</td>\n",
              "      <td>1.0</td>\n",
              "      <td>0.0</td>\n",
              "      <td>1.000000</td>\n",
              "      <td>0.397959</td>\n",
              "      <td>0.0</td>\n",
              "    </tr>\n",
              "    <tr>\n",
              "      <th>3</th>\n",
              "      <td>0.506849</td>\n",
              "      <td>0.0</td>\n",
              "      <td>0.086982</td>\n",
              "      <td>0.533333</td>\n",
              "      <td>0.200000</td>\n",
              "      <td>0.333333</td>\n",
              "      <td>0.428571</td>\n",
              "      <td>0.6</td>\n",
              "      <td>0.00</td>\n",
              "      <td>1.0</td>\n",
              "      <td>0.0</td>\n",
              "      <td>0.895317</td>\n",
              "      <td>0.397959</td>\n",
              "      <td>0.0</td>\n",
              "    </tr>\n",
              "    <tr>\n",
              "      <th>4</th>\n",
              "      <td>0.328767</td>\n",
              "      <td>0.0</td>\n",
              "      <td>0.171404</td>\n",
              "      <td>0.066667</td>\n",
              "      <td>0.600000</td>\n",
              "      <td>0.500000</td>\n",
              "      <td>0.000000</td>\n",
              "      <td>0.4</td>\n",
              "      <td>0.00</td>\n",
              "      <td>1.0</td>\n",
              "      <td>0.0</td>\n",
              "      <td>0.895317</td>\n",
              "      <td>0.397959</td>\n",
              "      <td>0.0</td>\n",
              "    </tr>\n",
              "  </tbody>\n",
              "</table>\n",
              "</div>"
            ],
            "text/plain": [
              "        age  workclass    fnlwgt  ...  capital.loss  hours.per.week  native.country\n",
              "0  1.000000        0.0  0.043987  ...      1.000000        0.397959             0.0\n",
              "1  0.890411        0.0  0.081896  ...      1.000000        0.173469             0.0\n",
              "2  0.671233        0.0  0.118021  ...      1.000000        0.397959             0.0\n",
              "3  0.506849        0.0  0.086982  ...      0.895317        0.397959             0.0\n",
              "4  0.328767        0.0  0.171404  ...      0.895317        0.397959             0.0\n",
              "\n",
              "[5 rows x 14 columns]"
            ]
          },
          "metadata": {
            "tags": []
          },
          "execution_count": 33
        }
      ]
    },
    {
      "cell_type": "code",
      "metadata": {
        "trusted": true,
        "colab": {
          "base_uri": "https://localhost:8080/"
        },
        "id": "P_kl9ufr08xO",
        "outputId": "01ecec85-8fc9-4d49-9c57-53fcd85af028"
      },
      "source": [
        "x.shape, y.shape"
      ],
      "execution_count": 34,
      "outputs": [
        {
          "output_type": "execute_result",
          "data": {
            "text/plain": [
              "((32561, 14), (32561,))"
            ]
          },
          "metadata": {
            "tags": []
          },
          "execution_count": 34
        }
      ]
    },
    {
      "cell_type": "markdown",
      "metadata": {
        "id": "AQ3a5zbi08xP"
      },
      "source": [
        "TRAIN TEST SPLIT"
      ]
    },
    {
      "cell_type": "code",
      "metadata": {
        "trusted": true,
        "id": "uCQ00lHi08xQ"
      },
      "source": [
        "from sklearn.model_selection import train_test_split\n",
        "x_train,x_test, y_train, y_test = train_test_split(x,y, test_size =0.20, random_state = 3)"
      ],
      "execution_count": 35,
      "outputs": []
    },
    {
      "cell_type": "markdown",
      "metadata": {
        "id": "CScPqGNN08xQ"
      },
      "source": [
        "MODEL CREATION"
      ]
    },
    {
      "cell_type": "markdown",
      "metadata": {
        "id": "hkNX0o8908xR"
      },
      "source": [
        "RANDOM FOREST CLASSIFIER"
      ]
    },
    {
      "cell_type": "code",
      "metadata": {
        "trusted": true,
        "id": "il66aNrp08xS"
      },
      "source": [
        "import keras\n",
        "from keras.models import Sequential\n",
        "from keras.layers import Dense\n",
        "from keras.layers import LeakyReLU, PReLU, ELU\n",
        "from keras.layers import Dropout"
      ],
      "execution_count": 36,
      "outputs": []
    },
    {
      "cell_type": "code",
      "metadata": {
        "id": "8EoQMBux1psH"
      },
      "source": [
        "clf = Sequential()\r\n",
        "clf.add(Dense(units = 20, kernel_initializer = 'he_normal', activation='relu', input_dim = 14))\r\n",
        "clf.add(Dense(units = 10, kernel_initializer = 'he_normal', activation='relu'))\r\n",
        "clf.add(Dense(units = 1, kernel_initializer = 'glorot_normal', activation = 'sigmoid'))\r\n",
        "clf.compile(optimizer = 'adam', loss = 'binary_crossentropy', metrics = ['accuracy'])"
      ],
      "execution_count": 37,
      "outputs": []
    },
    {
      "cell_type": "code",
      "metadata": {
        "colab": {
          "base_uri": "https://localhost:8080/"
        },
        "id": "MXju3gPp18KI",
        "outputId": "723ae0d6-f19b-4b14-d9cb-e9978995a23d"
      },
      "source": [
        "model = clf.fit(x_train, y_train, batch_size=10, validation_split=0.30, epochs=100)"
      ],
      "execution_count": 38,
      "outputs": [
        {
          "output_type": "stream",
          "text": [
            "Epoch 1/100\n",
            "1824/1824 [==============================] - 7s 3ms/step - loss: 0.4796 - accuracy: 0.7755 - val_loss: 0.3726 - val_accuracy: 0.8280\n",
            "Epoch 2/100\n",
            "1824/1824 [==============================] - 5s 3ms/step - loss: 0.3729 - accuracy: 0.8269 - val_loss: 0.3448 - val_accuracy: 0.8449\n",
            "Epoch 3/100\n",
            "1824/1824 [==============================] - 5s 3ms/step - loss: 0.3456 - accuracy: 0.8388 - val_loss: 0.3360 - val_accuracy: 0.8462\n",
            "Epoch 4/100\n",
            "1824/1824 [==============================] - 5s 3ms/step - loss: 0.3432 - accuracy: 0.8419 - val_loss: 0.3375 - val_accuracy: 0.8415\n",
            "Epoch 5/100\n",
            "1824/1824 [==============================] - 5s 3ms/step - loss: 0.3471 - accuracy: 0.8353 - val_loss: 0.3306 - val_accuracy: 0.8444\n",
            "Epoch 6/100\n",
            "1824/1824 [==============================] - 5s 3ms/step - loss: 0.3398 - accuracy: 0.8377 - val_loss: 0.3363 - val_accuracy: 0.8434\n",
            "Epoch 7/100\n",
            "1824/1824 [==============================] - 5s 3ms/step - loss: 0.3344 - accuracy: 0.8438 - val_loss: 0.3279 - val_accuracy: 0.8468\n",
            "Epoch 8/100\n",
            "1824/1824 [==============================] - 5s 3ms/step - loss: 0.3356 - accuracy: 0.8429 - val_loss: 0.3251 - val_accuracy: 0.8468\n",
            "Epoch 9/100\n",
            "1824/1824 [==============================] - 5s 3ms/step - loss: 0.3299 - accuracy: 0.8432 - val_loss: 0.3246 - val_accuracy: 0.8489\n",
            "Epoch 10/100\n",
            "1824/1824 [==============================] - 5s 3ms/step - loss: 0.3230 - accuracy: 0.8462 - val_loss: 0.3256 - val_accuracy: 0.8479\n",
            "Epoch 11/100\n",
            "1824/1824 [==============================] - 5s 3ms/step - loss: 0.3267 - accuracy: 0.8458 - val_loss: 0.3224 - val_accuracy: 0.8480\n",
            "Epoch 12/100\n",
            "1824/1824 [==============================] - 5s 3ms/step - loss: 0.3302 - accuracy: 0.8427 - val_loss: 0.3250 - val_accuracy: 0.8485\n",
            "Epoch 13/100\n",
            "1824/1824 [==============================] - 5s 3ms/step - loss: 0.3323 - accuracy: 0.8424 - val_loss: 0.3250 - val_accuracy: 0.8457\n",
            "Epoch 14/100\n",
            "1824/1824 [==============================] - 5s 3ms/step - loss: 0.3235 - accuracy: 0.8460 - val_loss: 0.3220 - val_accuracy: 0.8514\n",
            "Epoch 15/100\n",
            "1824/1824 [==============================] - 5s 3ms/step - loss: 0.3260 - accuracy: 0.8450 - val_loss: 0.3222 - val_accuracy: 0.8489\n",
            "Epoch 16/100\n",
            "1824/1824 [==============================] - 5s 3ms/step - loss: 0.3233 - accuracy: 0.8482 - val_loss: 0.3231 - val_accuracy: 0.8488\n",
            "Epoch 17/100\n",
            "1824/1824 [==============================] - 5s 3ms/step - loss: 0.3238 - accuracy: 0.8443 - val_loss: 0.3223 - val_accuracy: 0.8509\n",
            "Epoch 18/100\n",
            "1824/1824 [==============================] - 5s 3ms/step - loss: 0.3256 - accuracy: 0.8453 - val_loss: 0.3333 - val_accuracy: 0.8430\n",
            "Epoch 19/100\n",
            "1824/1824 [==============================] - 5s 3ms/step - loss: 0.3195 - accuracy: 0.8518 - val_loss: 0.3334 - val_accuracy: 0.8407\n",
            "Epoch 20/100\n",
            "1824/1824 [==============================] - 5s 3ms/step - loss: 0.3198 - accuracy: 0.8450 - val_loss: 0.3292 - val_accuracy: 0.8427\n",
            "Epoch 21/100\n",
            "1824/1824 [==============================] - 5s 3ms/step - loss: 0.3239 - accuracy: 0.8440 - val_loss: 0.3229 - val_accuracy: 0.8454\n",
            "Epoch 22/100\n",
            "1824/1824 [==============================] - 5s 3ms/step - loss: 0.3232 - accuracy: 0.8440 - val_loss: 0.3197 - val_accuracy: 0.8498\n",
            "Epoch 23/100\n",
            "1824/1824 [==============================] - 5s 3ms/step - loss: 0.3165 - accuracy: 0.8478 - val_loss: 0.3293 - val_accuracy: 0.8482\n",
            "Epoch 24/100\n",
            "1824/1824 [==============================] - 5s 3ms/step - loss: 0.3205 - accuracy: 0.8479 - val_loss: 0.3198 - val_accuracy: 0.8504\n",
            "Epoch 25/100\n",
            "1824/1824 [==============================] - 5s 3ms/step - loss: 0.3144 - accuracy: 0.8500 - val_loss: 0.3265 - val_accuracy: 0.8453\n",
            "Epoch 26/100\n",
            "1824/1824 [==============================] - 5s 3ms/step - loss: 0.3137 - accuracy: 0.8500 - val_loss: 0.3200 - val_accuracy: 0.8503\n",
            "Epoch 27/100\n",
            "1824/1824 [==============================] - 5s 3ms/step - loss: 0.3190 - accuracy: 0.8492 - val_loss: 0.3193 - val_accuracy: 0.8505\n",
            "Epoch 28/100\n",
            "1824/1824 [==============================] - 5s 3ms/step - loss: 0.3181 - accuracy: 0.8478 - val_loss: 0.3201 - val_accuracy: 0.8494\n",
            "Epoch 29/100\n",
            "1824/1824 [==============================] - 5s 3ms/step - loss: 0.3158 - accuracy: 0.8501 - val_loss: 0.3238 - val_accuracy: 0.8500\n",
            "Epoch 30/100\n",
            "1824/1824 [==============================] - 5s 3ms/step - loss: 0.3229 - accuracy: 0.8449 - val_loss: 0.3210 - val_accuracy: 0.8499\n",
            "Epoch 31/100\n",
            "1824/1824 [==============================] - 5s 3ms/step - loss: 0.3167 - accuracy: 0.8504 - val_loss: 0.3223 - val_accuracy: 0.8503\n",
            "Epoch 32/100\n",
            "1824/1824 [==============================] - 5s 3ms/step - loss: 0.3211 - accuracy: 0.8466 - val_loss: 0.3193 - val_accuracy: 0.8507\n",
            "Epoch 33/100\n",
            "1824/1824 [==============================] - 5s 3ms/step - loss: 0.3263 - accuracy: 0.8439 - val_loss: 0.3197 - val_accuracy: 0.8507\n",
            "Epoch 34/100\n",
            "1824/1824 [==============================] - 5s 3ms/step - loss: 0.3114 - accuracy: 0.8526 - val_loss: 0.3185 - val_accuracy: 0.8500\n",
            "Epoch 35/100\n",
            "1824/1824 [==============================] - 5s 3ms/step - loss: 0.3226 - accuracy: 0.8473 - val_loss: 0.3241 - val_accuracy: 0.8445\n",
            "Epoch 36/100\n",
            "1824/1824 [==============================] - 5s 3ms/step - loss: 0.3169 - accuracy: 0.8508 - val_loss: 0.3191 - val_accuracy: 0.8493\n",
            "Epoch 37/100\n",
            "1824/1824 [==============================] - 5s 3ms/step - loss: 0.3171 - accuracy: 0.8461 - val_loss: 0.3186 - val_accuracy: 0.8518\n",
            "Epoch 38/100\n",
            "1824/1824 [==============================] - 5s 3ms/step - loss: 0.3141 - accuracy: 0.8504 - val_loss: 0.3189 - val_accuracy: 0.8511\n",
            "Epoch 39/100\n",
            "1824/1824 [==============================] - 5s 3ms/step - loss: 0.3137 - accuracy: 0.8488 - val_loss: 0.3193 - val_accuracy: 0.8481\n",
            "Epoch 40/100\n",
            "1824/1824 [==============================] - 5s 3ms/step - loss: 0.3175 - accuracy: 0.8515 - val_loss: 0.3201 - val_accuracy: 0.8518\n",
            "Epoch 41/100\n",
            "1824/1824 [==============================] - 5s 3ms/step - loss: 0.3120 - accuracy: 0.8507 - val_loss: 0.3218 - val_accuracy: 0.8466\n",
            "Epoch 42/100\n",
            "1824/1824 [==============================] - 5s 3ms/step - loss: 0.3119 - accuracy: 0.8515 - val_loss: 0.3240 - val_accuracy: 0.8482\n",
            "Epoch 43/100\n",
            "1824/1824 [==============================] - 5s 3ms/step - loss: 0.3256 - accuracy: 0.8459 - val_loss: 0.3245 - val_accuracy: 0.8476\n",
            "Epoch 44/100\n",
            "1824/1824 [==============================] - 5s 3ms/step - loss: 0.3172 - accuracy: 0.8472 - val_loss: 0.3196 - val_accuracy: 0.8509\n",
            "Epoch 45/100\n",
            "1824/1824 [==============================] - 5s 3ms/step - loss: 0.3133 - accuracy: 0.8537 - val_loss: 0.3259 - val_accuracy: 0.8484\n",
            "Epoch 46/100\n",
            "1824/1824 [==============================] - 5s 3ms/step - loss: 0.3156 - accuracy: 0.8518 - val_loss: 0.3197 - val_accuracy: 0.8488\n",
            "Epoch 47/100\n",
            "1824/1824 [==============================] - 5s 3ms/step - loss: 0.3164 - accuracy: 0.8486 - val_loss: 0.3205 - val_accuracy: 0.8480\n",
            "Epoch 48/100\n",
            "1824/1824 [==============================] - 5s 3ms/step - loss: 0.3202 - accuracy: 0.8478 - val_loss: 0.3226 - val_accuracy: 0.8482\n",
            "Epoch 49/100\n",
            "1824/1824 [==============================] - 5s 3ms/step - loss: 0.3200 - accuracy: 0.8456 - val_loss: 0.3213 - val_accuracy: 0.8477\n",
            "Epoch 50/100\n",
            "1824/1824 [==============================] - 5s 3ms/step - loss: 0.3177 - accuracy: 0.8499 - val_loss: 0.3215 - val_accuracy: 0.8470\n",
            "Epoch 51/100\n",
            "1824/1824 [==============================] - 5s 3ms/step - loss: 0.3171 - accuracy: 0.8437 - val_loss: 0.3194 - val_accuracy: 0.8511\n",
            "Epoch 52/100\n",
            "1824/1824 [==============================] - 5s 3ms/step - loss: 0.3079 - accuracy: 0.8527 - val_loss: 0.3194 - val_accuracy: 0.8508\n",
            "Epoch 53/100\n",
            "1824/1824 [==============================] - 5s 3ms/step - loss: 0.3153 - accuracy: 0.8503 - val_loss: 0.3185 - val_accuracy: 0.8517\n",
            "Epoch 54/100\n",
            "1824/1824 [==============================] - 5s 3ms/step - loss: 0.3046 - accuracy: 0.8533 - val_loss: 0.3200 - val_accuracy: 0.8499\n",
            "Epoch 55/100\n",
            "1824/1824 [==============================] - 5s 3ms/step - loss: 0.3115 - accuracy: 0.8496 - val_loss: 0.3190 - val_accuracy: 0.8505\n",
            "Epoch 56/100\n",
            "1824/1824 [==============================] - 5s 3ms/step - loss: 0.3047 - accuracy: 0.8576 - val_loss: 0.3197 - val_accuracy: 0.8480\n",
            "Epoch 57/100\n",
            "1824/1824 [==============================] - 5s 3ms/step - loss: 0.3168 - accuracy: 0.8513 - val_loss: 0.3188 - val_accuracy: 0.8496\n",
            "Epoch 58/100\n",
            "1824/1824 [==============================] - 5s 3ms/step - loss: 0.3133 - accuracy: 0.8511 - val_loss: 0.3207 - val_accuracy: 0.8490\n",
            "Epoch 59/100\n",
            "1824/1824 [==============================] - 5s 3ms/step - loss: 0.3194 - accuracy: 0.8494 - val_loss: 0.3190 - val_accuracy: 0.8502\n",
            "Epoch 60/100\n",
            "1824/1824 [==============================] - 5s 3ms/step - loss: 0.3174 - accuracy: 0.8469 - val_loss: 0.3183 - val_accuracy: 0.8540\n",
            "Epoch 61/100\n",
            "1824/1824 [==============================] - 5s 3ms/step - loss: 0.3187 - accuracy: 0.8458 - val_loss: 0.3184 - val_accuracy: 0.8504\n",
            "Epoch 62/100\n",
            "1824/1824 [==============================] - 5s 3ms/step - loss: 0.3113 - accuracy: 0.8515 - val_loss: 0.3230 - val_accuracy: 0.8456\n",
            "Epoch 63/100\n",
            "1824/1824 [==============================] - 5s 3ms/step - loss: 0.3097 - accuracy: 0.8526 - val_loss: 0.3223 - val_accuracy: 0.8485\n",
            "Epoch 64/100\n",
            "1824/1824 [==============================] - 5s 3ms/step - loss: 0.3132 - accuracy: 0.8506 - val_loss: 0.3179 - val_accuracy: 0.8521\n",
            "Epoch 65/100\n",
            "1824/1824 [==============================] - 5s 3ms/step - loss: 0.3160 - accuracy: 0.8502 - val_loss: 0.3188 - val_accuracy: 0.8502\n",
            "Epoch 66/100\n",
            "1824/1824 [==============================] - 5s 3ms/step - loss: 0.3080 - accuracy: 0.8523 - val_loss: 0.3180 - val_accuracy: 0.8498\n",
            "Epoch 67/100\n",
            "1824/1824 [==============================] - 5s 3ms/step - loss: 0.3162 - accuracy: 0.8481 - val_loss: 0.3217 - val_accuracy: 0.8489\n",
            "Epoch 68/100\n",
            "1824/1824 [==============================] - 5s 3ms/step - loss: 0.3105 - accuracy: 0.8556 - val_loss: 0.3198 - val_accuracy: 0.8472\n",
            "Epoch 69/100\n",
            "1824/1824 [==============================] - 5s 3ms/step - loss: 0.3095 - accuracy: 0.8479 - val_loss: 0.3201 - val_accuracy: 0.8499\n",
            "Epoch 70/100\n",
            "1824/1824 [==============================] - 5s 3ms/step - loss: 0.3130 - accuracy: 0.8534 - val_loss: 0.3199 - val_accuracy: 0.8494\n",
            "Epoch 71/100\n",
            "1824/1824 [==============================] - 5s 3ms/step - loss: 0.3127 - accuracy: 0.8513 - val_loss: 0.3183 - val_accuracy: 0.8502\n",
            "Epoch 72/100\n",
            "1824/1824 [==============================] - 5s 3ms/step - loss: 0.3095 - accuracy: 0.8564 - val_loss: 0.3189 - val_accuracy: 0.8479\n",
            "Epoch 73/100\n",
            "1824/1824 [==============================] - 5s 3ms/step - loss: 0.3061 - accuracy: 0.8582 - val_loss: 0.3176 - val_accuracy: 0.8493\n",
            "Epoch 74/100\n",
            "1824/1824 [==============================] - 5s 3ms/step - loss: 0.3099 - accuracy: 0.8521 - val_loss: 0.3205 - val_accuracy: 0.8484\n",
            "Epoch 75/100\n",
            "1824/1824 [==============================] - 5s 3ms/step - loss: 0.3135 - accuracy: 0.8524 - val_loss: 0.3194 - val_accuracy: 0.8490\n",
            "Epoch 76/100\n",
            "1824/1824 [==============================] - 5s 3ms/step - loss: 0.3090 - accuracy: 0.8533 - val_loss: 0.3192 - val_accuracy: 0.8464\n",
            "Epoch 77/100\n",
            "1824/1824 [==============================] - 5s 3ms/step - loss: 0.3117 - accuracy: 0.8498 - val_loss: 0.3217 - val_accuracy: 0.8476\n",
            "Epoch 78/100\n",
            "1824/1824 [==============================] - 5s 3ms/step - loss: 0.3167 - accuracy: 0.8479 - val_loss: 0.3212 - val_accuracy: 0.8473\n",
            "Epoch 79/100\n",
            "1824/1824 [==============================] - 5s 3ms/step - loss: 0.3048 - accuracy: 0.8577 - val_loss: 0.3217 - val_accuracy: 0.8502\n",
            "Epoch 80/100\n",
            "1824/1824 [==============================] - 5s 3ms/step - loss: 0.3133 - accuracy: 0.8490 - val_loss: 0.3196 - val_accuracy: 0.8489\n",
            "Epoch 81/100\n",
            "1824/1824 [==============================] - 5s 3ms/step - loss: 0.3124 - accuracy: 0.8502 - val_loss: 0.3190 - val_accuracy: 0.8507\n",
            "Epoch 82/100\n",
            "1824/1824 [==============================] - 5s 3ms/step - loss: 0.3092 - accuracy: 0.8542 - val_loss: 0.3199 - val_accuracy: 0.8459\n",
            "Epoch 83/100\n",
            "1824/1824 [==============================] - 5s 3ms/step - loss: 0.3123 - accuracy: 0.8515 - val_loss: 0.3234 - val_accuracy: 0.8434\n",
            "Epoch 84/100\n",
            "1824/1824 [==============================] - 5s 3ms/step - loss: 0.3118 - accuracy: 0.8493 - val_loss: 0.3210 - val_accuracy: 0.8484\n",
            "Epoch 85/100\n",
            "1824/1824 [==============================] - 5s 3ms/step - loss: 0.3112 - accuracy: 0.8521 - val_loss: 0.3188 - val_accuracy: 0.8488\n",
            "Epoch 86/100\n",
            "1824/1824 [==============================] - 5s 3ms/step - loss: 0.3159 - accuracy: 0.8508 - val_loss: 0.3192 - val_accuracy: 0.8498\n",
            "Epoch 87/100\n",
            "1824/1824 [==============================] - 5s 3ms/step - loss: 0.3137 - accuracy: 0.8502 - val_loss: 0.3209 - val_accuracy: 0.8500\n",
            "Epoch 88/100\n",
            "1824/1824 [==============================] - 5s 3ms/step - loss: 0.3119 - accuracy: 0.8522 - val_loss: 0.3252 - val_accuracy: 0.8481\n",
            "Epoch 89/100\n",
            "1824/1824 [==============================] - 5s 3ms/step - loss: 0.3164 - accuracy: 0.8463 - val_loss: 0.3211 - val_accuracy: 0.8480\n",
            "Epoch 90/100\n",
            "1824/1824 [==============================] - 5s 3ms/step - loss: 0.3091 - accuracy: 0.8563 - val_loss: 0.3189 - val_accuracy: 0.8481\n",
            "Epoch 91/100\n",
            "1824/1824 [==============================] - 5s 3ms/step - loss: 0.3042 - accuracy: 0.8578 - val_loss: 0.3205 - val_accuracy: 0.8495\n",
            "Epoch 92/100\n",
            "1824/1824 [==============================] - 5s 3ms/step - loss: 0.3095 - accuracy: 0.8529 - val_loss: 0.3207 - val_accuracy: 0.8476\n",
            "Epoch 93/100\n",
            "1824/1824 [==============================] - 5s 3ms/step - loss: 0.3037 - accuracy: 0.8567 - val_loss: 0.3258 - val_accuracy: 0.8435\n",
            "Epoch 94/100\n",
            "1824/1824 [==============================] - 5s 3ms/step - loss: 0.3124 - accuracy: 0.8515 - val_loss: 0.3177 - val_accuracy: 0.8491\n",
            "Epoch 95/100\n",
            "1824/1824 [==============================] - 5s 3ms/step - loss: 0.3041 - accuracy: 0.8555 - val_loss: 0.3178 - val_accuracy: 0.8503\n",
            "Epoch 96/100\n",
            "1824/1824 [==============================] - 5s 3ms/step - loss: 0.3127 - accuracy: 0.8513 - val_loss: 0.3203 - val_accuracy: 0.8485\n",
            "Epoch 97/100\n",
            "1824/1824 [==============================] - 5s 3ms/step - loss: 0.3083 - accuracy: 0.8538 - val_loss: 0.3196 - val_accuracy: 0.8479\n",
            "Epoch 98/100\n",
            "1824/1824 [==============================] - 5s 3ms/step - loss: 0.3100 - accuracy: 0.8549 - val_loss: 0.3225 - val_accuracy: 0.8488\n",
            "Epoch 99/100\n",
            "1824/1824 [==============================] - 5s 3ms/step - loss: 0.3120 - accuracy: 0.8535 - val_loss: 0.3204 - val_accuracy: 0.8513\n",
            "Epoch 100/100\n",
            "1824/1824 [==============================] - 5s 3ms/step - loss: 0.3075 - accuracy: 0.8536 - val_loss: 0.3206 - val_accuracy: 0.8498\n"
          ],
          "name": "stdout"
        }
      ]
    },
    {
      "cell_type": "code",
      "metadata": {
        "colab": {
          "base_uri": "https://localhost:8080/"
        },
        "id": "tc40KQ7U2AYd",
        "outputId": "8654877d-931c-4485-d240-938c71acb769"
      },
      "source": [
        "y_pred=clf.predict(x_test)\r\n",
        "y_pred"
      ],
      "execution_count": 39,
      "outputs": [
        {
          "output_type": "execute_result",
          "data": {
            "text/plain": [
              "array([[5.55204647e-03],\n",
              "       [5.84710906e-05],\n",
              "       [1.04983136e-01],\n",
              "       ...,\n",
              "       [6.62502944e-01],\n",
              "       [2.07469217e-03],\n",
              "       [8.02422091e-02]], dtype=float32)"
            ]
          },
          "metadata": {
            "tags": []
          },
          "execution_count": 39
        }
      ]
    },
    {
      "cell_type": "code",
      "metadata": {
        "colab": {
          "base_uri": "https://localhost:8080/"
        },
        "id": "hyL0-S_f4MaC",
        "outputId": "d5a9e049-8fb2-4720-b45c-aa4133f6bdf3"
      },
      "source": [
        "y_pred = (y_pred > 0.5)\r\n",
        "y_pred"
      ],
      "execution_count": 41,
      "outputs": [
        {
          "output_type": "execute_result",
          "data": {
            "text/plain": [
              "array([[False],\n",
              "       [False],\n",
              "       [False],\n",
              "       ...,\n",
              "       [ True],\n",
              "       [False],\n",
              "       [False]])"
            ]
          },
          "metadata": {
            "tags": []
          },
          "execution_count": 41
        }
      ]
    },
    {
      "cell_type": "code",
      "metadata": {
        "trusted": true,
        "colab": {
          "base_uri": "https://localhost:8080/"
        },
        "id": "jyVgxtpX08xT",
        "outputId": "1edfb1cf-8f5f-4c35-f7fd-abe4d04cb467"
      },
      "source": [
        "from sklearn.metrics import accuracy_score\n",
        "score = accuracy_score(y_test, y_pred)\n",
        "print('The accuracy of ANN model is: {}%'.format(score*100))"
      ],
      "execution_count": 42,
      "outputs": [
        {
          "output_type": "stream",
          "text": [
            "The accuracy of ANN model is: 85.61338860740058%\n"
          ],
          "name": "stdout"
        }
      ]
    },
    {
      "cell_type": "code",
      "metadata": {
        "trusted": true,
        "colab": {
          "base_uri": "https://localhost:8080/"
        },
        "id": "4ZovsSYV08xV",
        "outputId": "53c285b5-eba5-482a-9242-d88331201318"
      },
      "source": [
        "from sklearn.metrics import confusion_matrix\n",
        "cm = confusion_matrix(y_test, y_pred)\n",
        "cm"
      ],
      "execution_count": 43,
      "outputs": [
        {
          "output_type": "execute_result",
          "data": {
            "text/plain": [
              "array([[4711,  219],\n",
              "       [ 718,  865]])"
            ]
          },
          "metadata": {
            "tags": []
          },
          "execution_count": 43
        }
      ]
    }
  ]
}